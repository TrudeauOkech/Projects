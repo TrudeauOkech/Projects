{
 "cells": [
  {
   "cell_type": "markdown",
   "id": "indoor-terrorism",
   "metadata": {},
   "source": [
    "# Project Conclusions"
   ]
  },
  {
   "cell_type": "markdown",
   "id": "boolean-meaning",
   "metadata": {},
   "source": [
    "### Key Findings"
   ]
  },
  {
   "cell_type": "markdown",
   "id": "third-mailing",
   "metadata": {},
   "source": [
    "1. The Random Forest model was the best performer. It's performance peaked at 100 trees, which meant it took significantly longer than the other models. The biggest factor was its sensitivity score, being the only model to break 80%. That 1 or 2 % though is vital. It could mean the difference between getting someone the help they need and making their mental health problems significantly worse. \n",
    "\n",
    "2. Naive Bayes overall performed worse, but had low variance and a higher recall score than Logistic Regression. It might be a good model for these reasons, especially because of its fast run time and simple implementation. \n",
    "\n",
    "3. Preprocessing of language data is important. Running the gridsearch on the pure text data vs. the preprocessed data resulted in around a 2% increase in accuracy. "
   ]
  },
  {
   "cell_type": "markdown",
   "id": "alien-hopkins",
   "metadata": {},
   "source": [
    "### Could We Use a Similar Model in the Real World?"
   ]
  },
  {
   "cell_type": "markdown",
   "id": "informed-liabilities",
   "metadata": {},
   "source": [
    "##### Mental Health Resource\n",
    "A similar model could be used as an adequate solution for bipolar disorder that is better than self-diagnosis, especially for those without the resources to see a mental health professional. Due to the cyclical nature of bipolar disorder, it might also help to collect data from a period of time rather than all at once. It could also be used to monitor bipolar cycles by analyzing language, similar to how a blood glucose monitor is used.(An idea first proposed to me by [Jennifer Brown](https://www.linkedin.com/in/jennifer-brown-data-scientist/)). \n",
    "\n",
    "##### Other Psychiatric Disorders\n",
    "This model could be refined to diagnose other disorders like Schizophrenia, ADHD, multiple personality disorder, and Obsessive Compulsive Disorder. Some of these would benefit from a diagnostic that is more organic and can span multiple time periods. \n",
    "\n",
    "##### Not a Direct Parallel\n",
    "Although this project has highlighted possibilities for diagnosing bipolar disorder, reddit posts are not a direct parallel to other diagnostic tests. Using Reddit data specifically could also introduce other biases and pitfalls. While Reddits posts were anonymous and more natural than a questionnaire, there are still aspects of Reddit that affect what people write in their posts. Also, this model predicts whether or not a post is by someone who wanted to post in the bipolar subreddit, not whether or not someone has bipolar disorder. Nonetheless, with further research, these problems could be resolved."
   ]
  },
  {
   "cell_type": "markdown",
   "id": "adapted-factor",
   "metadata": {},
   "source": [
    "### What Comes Next?\n",
    "\n",
    "* Further research into the strengths of this model and where it really differentiates between unipolar and bipolar depression. \n",
    "* Develop and refine a survey that gathers language from both diagnosed bipolar and non-bipolar individuals \n",
    "* Use that language data to build a better model that can more accurately predict bipolar disorder than the current options.\n",
    "# "
   ]
  },
  {
   "cell_type": "markdown",
   "id": "olive-delta",
   "metadata": {},
   "source": [
    "[Return to Read Me](../README.md)"
   ]
  }
 ],
 "metadata": {
  "kernelspec": {
   "display_name": "Python 3",
   "language": "python",
   "name": "python3"
  },
  "language_info": {
   "codemirror_mode": {
    "name": "ipython",
    "version": 3
   },
   "file_extension": ".py",
   "mimetype": "text/x-python",
   "name": "python",
   "nbconvert_exporter": "python",
   "pygments_lexer": "ipython3",
   "version": "3.8.5"
  }
 },
 "nbformat": 4,
 "nbformat_minor": 5
}
