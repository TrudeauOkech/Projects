{
 "cells": [
  {
   "cell_type": "code",
   "execution_count": 1,
   "id": "numerical-shakespeare",
   "metadata": {},
   "outputs": [],
   "source": [
    "from statsbombpy import sb"
   ]
  },
  {
   "cell_type": "code",
   "execution_count": 4,
   "id": "three-neutral",
   "metadata": {},
   "outputs": [
    {
     "ename": "TypeError",
     "evalue": "events() missing 1 required positional argument: 'match_id'",
     "output_type": "error",
     "traceback": [
      "\u001b[0;31m---------------------------------------------------------------------------\u001b[0m",
      "\u001b[0;31mTypeError\u001b[0m                                 Traceback (most recent call last)",
      "\u001b[0;32m<ipython-input-4-81cd94c42969>\u001b[0m in \u001b[0;36m<module>\u001b[0;34m\u001b[0m\n\u001b[0;32m----> 1\u001b[0;31m \u001b[0msb\u001b[0m\u001b[0;34m.\u001b[0m\u001b[0mevents\u001b[0m\u001b[0;34m(\u001b[0m\u001b[0;34m)\u001b[0m\u001b[0;34m\u001b[0m\u001b[0;34m\u001b[0m\u001b[0m\n\u001b[0m",
      "\u001b[0;31mTypeError\u001b[0m: events() missing 1 required positional argument: 'match_id'"
     ]
    }
   ],
   "source": [
    "sb.events()"
   ]
  },
  {
   "cell_type": "code",
   "execution_count": null,
   "id": "informational-words",
   "metadata": {},
   "outputs": [],
   "source": []
  }
 ],
 "metadata": {
  "kernelspec": {
   "display_name": "Python 3",
   "language": "python",
   "name": "python3"
  },
  "language_info": {
   "codemirror_mode": {
    "name": "ipython",
    "version": 3
   },
   "file_extension": ".py",
   "mimetype": "text/x-python",
   "name": "python",
   "nbconvert_exporter": "python",
   "pygments_lexer": "ipython3",
   "version": "3.8.5"
  }
 },
 "nbformat": 4,
 "nbformat_minor": 5
}
