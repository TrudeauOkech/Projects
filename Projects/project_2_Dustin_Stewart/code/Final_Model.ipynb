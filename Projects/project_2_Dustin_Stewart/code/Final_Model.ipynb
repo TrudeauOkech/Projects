{
 "cells": [
  {
   "cell_type": "markdown",
   "id": "japanese-kentucky",
   "metadata": {},
   "source": [
    "## Creating a Final Model"
   ]
  },
  {
   "cell_type": "markdown",
   "id": "bridal-saying",
   "metadata": {},
   "source": [
    "Import libraries and change settings:"
   ]
  },
  {
   "cell_type": "code",
   "execution_count": 23,
   "id": "completed-saturday",
   "metadata": {},
   "outputs": [],
   "source": [
    "import matplotlib.pyplot as plt\n",
    "import numpy as np\n",
    "import pandas as pd\n",
    "import seaborn as sns\n",
    "from sklearn.linear_model import LinearRegression, LassoCV, RidgeCV\n",
    "from sklearn.preprocessing import PolynomialFeatures, StandardScaler, MinMaxScaler, PowerTransformer\n",
    "from sklearn.model_selection import train_test_split, cross_val_score, cross_val_predict\n",
    "from sklearn.metrics import r2_score, mean_squared_error\n",
    "pd.set_option('display.max_rows', 100)\n",
    "pd.set_option('display.max_columns', 100)"
   ]
  },
  {
   "cell_type": "markdown",
   "id": "recognized-norfolk",
   "metadata": {},
   "source": [
    "# \n",
    "Import our cleaned training data:"
   ]
  },
  {
   "cell_type": "code",
   "execution_count": 24,
   "id": "capable-advance",
   "metadata": {},
   "outputs": [],
   "source": [
    "train_cleaned = pd.read_csv('../data/train_clean.csv')"
   ]
  },
  {
   "cell_type": "markdown",
   "id": "statistical-tractor",
   "metadata": {},
   "source": [
    "# \n",
    "Convert to numeric as those will be the only variables we need in our model:"
   ]
  },
  {
   "cell_type": "code",
   "execution_count": 25,
   "id": "maritime-pollution",
   "metadata": {},
   "outputs": [],
   "source": [
    "train_cleaned_numeric = train_cleaned.select_dtypes(include = np.number)"
   ]
  },
  {
   "cell_type": "code",
   "execution_count": 26,
   "id": "coordinated-samoa",
   "metadata": {},
   "outputs": [
    {
     "data": {
      "text/html": [
       "<div>\n",
       "<style scoped>\n",
       "    .dataframe tbody tr th:only-of-type {\n",
       "        vertical-align: middle;\n",
       "    }\n",
       "\n",
       "    .dataframe tbody tr th {\n",
       "        vertical-align: top;\n",
       "    }\n",
       "\n",
       "    .dataframe thead th {\n",
       "        text-align: right;\n",
       "    }\n",
       "</style>\n",
       "<table border=\"1\" class=\"dataframe\">\n",
       "  <thead>\n",
       "    <tr style=\"text-align: right;\">\n",
       "      <th></th>\n",
       "      <th>Id</th>\n",
       "      <th>MS SubClass</th>\n",
       "      <th>Lot Area</th>\n",
       "      <th>Overall Qual</th>\n",
       "      <th>Overall Cond</th>\n",
       "      <th>Year Built</th>\n",
       "      <th>Year Remod/Add</th>\n",
       "      <th>BsmtFin SF 1</th>\n",
       "      <th>Total Bsmt SF</th>\n",
       "      <th>Central Air</th>\n",
       "      <th>1st Flr SF</th>\n",
       "      <th>2nd Flr SF</th>\n",
       "      <th>Low Qual Fin SF</th>\n",
       "      <th>Gr Liv Area</th>\n",
       "      <th>Bsmt Full Bath</th>\n",
       "      <th>Full Bath</th>\n",
       "      <th>Bedroom AbvGr</th>\n",
       "      <th>Kitchen Qual</th>\n",
       "      <th>TotRms AbvGrd</th>\n",
       "      <th>Fireplaces</th>\n",
       "      <th>Garage Area</th>\n",
       "      <th>Wood Deck SF</th>\n",
       "      <th>Open Porch SF</th>\n",
       "      <th>SalePrice</th>\n",
       "      <th>remodeled</th>\n",
       "      <th>post_recession_sale</th>\n",
       "      <th>HasAlley</th>\n",
       "      <th>has_brick_face</th>\n",
       "      <th>has_basement</th>\n",
       "      <th>has_attached_garage</th>\n",
       "      <th>has_decent_garage</th>\n",
       "      <th>has_nice_fence</th>\n",
       "      <th>newer</th>\n",
       "      <th>pre_war</th>\n",
       "      <th>two_story</th>\n",
       "      <th>planned_development</th>\n",
       "      <th>split</th>\n",
       "      <th>floating_village</th>\n",
       "      <th>low_density_residential</th>\n",
       "      <th>gravel_street</th>\n",
       "      <th>on_hill</th>\n",
       "      <th>in_culdesac</th>\n",
       "      <th>good_hood</th>\n",
       "      <th>bad_hood</th>\n",
       "      <th>near_artery_or_feeder</th>\n",
       "      <th>has_hip_roof</th>\n",
       "      <th>nice_exterior</th>\n",
       "      <th>has_poured_concrete_foundation</th>\n",
       "      <th>poor_functionality</th>\n",
       "      <th>has_fireplace</th>\n",
       "      <th>has_paved_drive</th>\n",
       "      <th>has_porch_or_deck</th>\n",
       "      <th>log_overall_cond</th>\n",
       "      <th>log_lot_area</th>\n",
       "      <th>Neighborhood_Blueste</th>\n",
       "      <th>Neighborhood_BrDale</th>\n",
       "      <th>Neighborhood_BrkSide</th>\n",
       "      <th>Neighborhood_ClearCr</th>\n",
       "      <th>Neighborhood_CollgCr</th>\n",
       "      <th>Neighborhood_Crawfor</th>\n",
       "      <th>Neighborhood_Edwards</th>\n",
       "      <th>Neighborhood_Gilbert</th>\n",
       "      <th>Neighborhood_Greens</th>\n",
       "      <th>Neighborhood_IDOTRR</th>\n",
       "      <th>Neighborhood_MeadowV</th>\n",
       "      <th>Neighborhood_Mitchel</th>\n",
       "      <th>Neighborhood_NAmes</th>\n",
       "      <th>Neighborhood_NPkVill</th>\n",
       "      <th>Neighborhood_NWAmes</th>\n",
       "      <th>Neighborhood_NoRidge</th>\n",
       "      <th>Neighborhood_NridgHt</th>\n",
       "      <th>Neighborhood_OldTown</th>\n",
       "      <th>Neighborhood_SWISU</th>\n",
       "      <th>Neighborhood_Sawyer</th>\n",
       "      <th>Neighborhood_SawyerW</th>\n",
       "      <th>Neighborhood_Somerst</th>\n",
       "      <th>Neighborhood_StoneBr</th>\n",
       "      <th>Neighborhood_Timber</th>\n",
       "      <th>Neighborhood_Veenker</th>\n",
       "    </tr>\n",
       "  </thead>\n",
       "  <tbody>\n",
       "    <tr>\n",
       "      <th>0</th>\n",
       "      <td>109.0</td>\n",
       "      <td>60.0</td>\n",
       "      <td>13517.0</td>\n",
       "      <td>6.0</td>\n",
       "      <td>8.0</td>\n",
       "      <td>1976.0</td>\n",
       "      <td>2005.0</td>\n",
       "      <td>533.0</td>\n",
       "      <td>725.0</td>\n",
       "      <td>1.0</td>\n",
       "      <td>725.0</td>\n",
       "      <td>754.0</td>\n",
       "      <td>0.0</td>\n",
       "      <td>1479.0</td>\n",
       "      <td>0.0</td>\n",
       "      <td>2.0</td>\n",
       "      <td>3.0</td>\n",
       "      <td>3.0</td>\n",
       "      <td>6.0</td>\n",
       "      <td>0.0</td>\n",
       "      <td>475.0</td>\n",
       "      <td>0.0</td>\n",
       "      <td>44.0</td>\n",
       "      <td>130500.0</td>\n",
       "      <td>1.0</td>\n",
       "      <td>1.0</td>\n",
       "      <td>0.0</td>\n",
       "      <td>1.0</td>\n",
       "      <td>1.0</td>\n",
       "      <td>1.0</td>\n",
       "      <td>1.0</td>\n",
       "      <td>0.0</td>\n",
       "      <td>1.0</td>\n",
       "      <td>0.0</td>\n",
       "      <td>1.0</td>\n",
       "      <td>0.0</td>\n",
       "      <td>0.0</td>\n",
       "      <td>0.0</td>\n",
       "      <td>1.0</td>\n",
       "      <td>0.0</td>\n",
       "      <td>0.0</td>\n",
       "      <td>1.0</td>\n",
       "      <td>1.0</td>\n",
       "      <td>1.0</td>\n",
       "      <td>0.0</td>\n",
       "      <td>0.0</td>\n",
       "      <td>1.0</td>\n",
       "      <td>0.0</td>\n",
       "      <td>0</td>\n",
       "      <td>0</td>\n",
       "      <td>1</td>\n",
       "      <td>1</td>\n",
       "      <td>2.079442</td>\n",
       "      <td>9.511703</td>\n",
       "      <td>0</td>\n",
       "      <td>0</td>\n",
       "      <td>0</td>\n",
       "      <td>0</td>\n",
       "      <td>0</td>\n",
       "      <td>0</td>\n",
       "      <td>0</td>\n",
       "      <td>0</td>\n",
       "      <td>0</td>\n",
       "      <td>0</td>\n",
       "      <td>0</td>\n",
       "      <td>0</td>\n",
       "      <td>0</td>\n",
       "      <td>0</td>\n",
       "      <td>0</td>\n",
       "      <td>0</td>\n",
       "      <td>0</td>\n",
       "      <td>0</td>\n",
       "      <td>0</td>\n",
       "      <td>1</td>\n",
       "      <td>0</td>\n",
       "      <td>0</td>\n",
       "      <td>0</td>\n",
       "      <td>0</td>\n",
       "      <td>0</td>\n",
       "    </tr>\n",
       "    <tr>\n",
       "      <th>1</th>\n",
       "      <td>544.0</td>\n",
       "      <td>60.0</td>\n",
       "      <td>11492.0</td>\n",
       "      <td>7.0</td>\n",
       "      <td>5.0</td>\n",
       "      <td>1996.0</td>\n",
       "      <td>1997.0</td>\n",
       "      <td>637.0</td>\n",
       "      <td>913.0</td>\n",
       "      <td>1.0</td>\n",
       "      <td>913.0</td>\n",
       "      <td>1209.0</td>\n",
       "      <td>0.0</td>\n",
       "      <td>2122.0</td>\n",
       "      <td>1.0</td>\n",
       "      <td>2.0</td>\n",
       "      <td>4.0</td>\n",
       "      <td>3.0</td>\n",
       "      <td>8.0</td>\n",
       "      <td>1.0</td>\n",
       "      <td>559.0</td>\n",
       "      <td>0.0</td>\n",
       "      <td>74.0</td>\n",
       "      <td>220000.0</td>\n",
       "      <td>1.0</td>\n",
       "      <td>1.0</td>\n",
       "      <td>0.0</td>\n",
       "      <td>1.0</td>\n",
       "      <td>1.0</td>\n",
       "      <td>1.0</td>\n",
       "      <td>1.0</td>\n",
       "      <td>0.0</td>\n",
       "      <td>1.0</td>\n",
       "      <td>0.0</td>\n",
       "      <td>1.0</td>\n",
       "      <td>0.0</td>\n",
       "      <td>0.0</td>\n",
       "      <td>0.0</td>\n",
       "      <td>1.0</td>\n",
       "      <td>0.0</td>\n",
       "      <td>0.0</td>\n",
       "      <td>1.0</td>\n",
       "      <td>1.0</td>\n",
       "      <td>1.0</td>\n",
       "      <td>0.0</td>\n",
       "      <td>0.0</td>\n",
       "      <td>1.0</td>\n",
       "      <td>1.0</td>\n",
       "      <td>0</td>\n",
       "      <td>1</td>\n",
       "      <td>1</td>\n",
       "      <td>1</td>\n",
       "      <td>1.609438</td>\n",
       "      <td>9.349406</td>\n",
       "      <td>0</td>\n",
       "      <td>0</td>\n",
       "      <td>0</td>\n",
       "      <td>0</td>\n",
       "      <td>0</td>\n",
       "      <td>0</td>\n",
       "      <td>0</td>\n",
       "      <td>0</td>\n",
       "      <td>0</td>\n",
       "      <td>0</td>\n",
       "      <td>0</td>\n",
       "      <td>0</td>\n",
       "      <td>0</td>\n",
       "      <td>0</td>\n",
       "      <td>0</td>\n",
       "      <td>0</td>\n",
       "      <td>0</td>\n",
       "      <td>0</td>\n",
       "      <td>0</td>\n",
       "      <td>0</td>\n",
       "      <td>1</td>\n",
       "      <td>0</td>\n",
       "      <td>0</td>\n",
       "      <td>0</td>\n",
       "      <td>0</td>\n",
       "    </tr>\n",
       "  </tbody>\n",
       "</table>\n",
       "</div>"
      ],
      "text/plain": [
       "      Id  MS SubClass  Lot Area  Overall Qual  Overall Cond  Year Built  \\\n",
       "0  109.0         60.0   13517.0           6.0           8.0      1976.0   \n",
       "1  544.0         60.0   11492.0           7.0           5.0      1996.0   \n",
       "\n",
       "   Year Remod/Add  BsmtFin SF 1  Total Bsmt SF  Central Air  1st Flr SF  \\\n",
       "0          2005.0         533.0          725.0          1.0       725.0   \n",
       "1          1997.0         637.0          913.0          1.0       913.0   \n",
       "\n",
       "   2nd Flr SF  Low Qual Fin SF  Gr Liv Area  Bsmt Full Bath  Full Bath  \\\n",
       "0       754.0              0.0       1479.0             0.0        2.0   \n",
       "1      1209.0              0.0       2122.0             1.0        2.0   \n",
       "\n",
       "   Bedroom AbvGr  Kitchen Qual  TotRms AbvGrd  Fireplaces  Garage Area  \\\n",
       "0            3.0           3.0            6.0         0.0        475.0   \n",
       "1            4.0           3.0            8.0         1.0        559.0   \n",
       "\n",
       "   Wood Deck SF  Open Porch SF  SalePrice  remodeled  post_recession_sale  \\\n",
       "0           0.0           44.0   130500.0        1.0                  1.0   \n",
       "1           0.0           74.0   220000.0        1.0                  1.0   \n",
       "\n",
       "   HasAlley  has_brick_face  has_basement  has_attached_garage  \\\n",
       "0       0.0             1.0           1.0                  1.0   \n",
       "1       0.0             1.0           1.0                  1.0   \n",
       "\n",
       "   has_decent_garage  has_nice_fence  newer  pre_war  two_story  \\\n",
       "0                1.0             0.0    1.0      0.0        1.0   \n",
       "1                1.0             0.0    1.0      0.0        1.0   \n",
       "\n",
       "   planned_development  split  floating_village  low_density_residential  \\\n",
       "0                  0.0    0.0               0.0                      1.0   \n",
       "1                  0.0    0.0               0.0                      1.0   \n",
       "\n",
       "   gravel_street  on_hill  in_culdesac  good_hood  bad_hood  \\\n",
       "0            0.0      0.0          1.0        1.0       1.0   \n",
       "1            0.0      0.0          1.0        1.0       1.0   \n",
       "\n",
       "   near_artery_or_feeder  has_hip_roof  nice_exterior  \\\n",
       "0                    0.0           0.0            1.0   \n",
       "1                    0.0           0.0            1.0   \n",
       "\n",
       "   has_poured_concrete_foundation  poor_functionality  has_fireplace  \\\n",
       "0                             0.0                   0              0   \n",
       "1                             1.0                   0              1   \n",
       "\n",
       "   has_paved_drive  has_porch_or_deck  log_overall_cond  log_lot_area  \\\n",
       "0                1                  1          2.079442      9.511703   \n",
       "1                1                  1          1.609438      9.349406   \n",
       "\n",
       "   Neighborhood_Blueste  Neighborhood_BrDale  Neighborhood_BrkSide  \\\n",
       "0                     0                    0                     0   \n",
       "1                     0                    0                     0   \n",
       "\n",
       "   Neighborhood_ClearCr  Neighborhood_CollgCr  Neighborhood_Crawfor  \\\n",
       "0                     0                     0                     0   \n",
       "1                     0                     0                     0   \n",
       "\n",
       "   Neighborhood_Edwards  Neighborhood_Gilbert  Neighborhood_Greens  \\\n",
       "0                     0                     0                    0   \n",
       "1                     0                     0                    0   \n",
       "\n",
       "   Neighborhood_IDOTRR  Neighborhood_MeadowV  Neighborhood_Mitchel  \\\n",
       "0                    0                     0                     0   \n",
       "1                    0                     0                     0   \n",
       "\n",
       "   Neighborhood_NAmes  Neighborhood_NPkVill  Neighborhood_NWAmes  \\\n",
       "0                   0                     0                    0   \n",
       "1                   0                     0                    0   \n",
       "\n",
       "   Neighborhood_NoRidge  Neighborhood_NridgHt  Neighborhood_OldTown  \\\n",
       "0                     0                     0                     0   \n",
       "1                     0                     0                     0   \n",
       "\n",
       "   Neighborhood_SWISU  Neighborhood_Sawyer  Neighborhood_SawyerW  \\\n",
       "0                   0                    1                     0   \n",
       "1                   0                    0                     1   \n",
       "\n",
       "   Neighborhood_Somerst  Neighborhood_StoneBr  Neighborhood_Timber  \\\n",
       "0                     0                     0                    0   \n",
       "1                     0                     0                    0   \n",
       "\n",
       "   Neighborhood_Veenker  \n",
       "0                     0  \n",
       "1                     0  "
      ]
     },
     "execution_count": 26,
     "metadata": {},
     "output_type": "execute_result"
    }
   ],
   "source": [
    "train_cleaned_numeric.head(2)"
   ]
  },
  {
   "cell_type": "markdown",
   "id": "desperate-shelter",
   "metadata": {},
   "source": [
    "# \n",
    "### The Model\n",
    "###### \n",
    "Create the Independent Variables (X) and the dependent variable (Y) for our model:"
   ]
  },
  {
   "cell_type": "code",
   "execution_count": 27,
   "id": "through-swift",
   "metadata": {},
   "outputs": [],
   "source": [
    "features = train_cleaned_numeric.drop(columns = ['Central Air', 'Overall Cond', 'Id', 'SalePrice', 'Gr Liv Area', 'MS SubClass', 'Year Remod/Add', \n",
    "                                         'planned_development', 'has_paved_drive', 'Bsmt Full Bath', \n",
    "                                         'Lot Area', 'good_hood', 'bad_hood', 'two_story', 'split', 'newer', 'pre_war', 'Fireplaces', 'Low Qual Fin SF', \n",
    "                                         'has_attached_garage', 'Total Bsmt SF', 'Wood Deck SF', 'Open Porch SF', 'has_basement', 'Full Bath', \n",
    "                                         'Garage Area', 'has_nice_fence', 'TotRms AbvGrd', 'Bedroom AbvGr']).columns\n",
    "X = train_cleaned_numeric[features]\n",
    "y = np.log(train_cleaned_numeric['SalePrice'])"
   ]
  },
  {
   "cell_type": "markdown",
   "id": "answering-allowance",
   "metadata": {},
   "source": [
    "# \n",
    "Split data into training and test:"
   ]
  },
  {
   "cell_type": "code",
   "execution_count": 28,
   "id": "employed-georgia",
   "metadata": {},
   "outputs": [],
   "source": [
    "X_train, X_test, y_train, y_test = train_test_split(X, y)"
   ]
  },
  {
   "cell_type": "markdown",
   "id": "positive-bidding",
   "metadata": {},
   "source": [
    "# \n",
    "Scale the data to put all variables on a comparable scale:"
   ]
  },
  {
   "cell_type": "code",
   "execution_count": 29,
   "id": "duplicate-influence",
   "metadata": {},
   "outputs": [],
   "source": [
    "ss = StandardScaler()\n",
    "ss.fit(X_train)\n",
    "X_train = ss.transform(X_train)\n",
    "X_test = ss.transform(X_test)"
   ]
  },
  {
   "cell_type": "markdown",
   "id": "recovered-score",
   "metadata": {},
   "source": [
    "# \n",
    "Compare different models to decide which is best:"
   ]
  },
  {
   "cell_type": "code",
   "execution_count": 30,
   "id": "tutorial-bacon",
   "metadata": {},
   "outputs": [
    {
     "data": {
      "text/plain": [
       "0.8562193835181108"
      ]
     },
     "execution_count": 30,
     "metadata": {},
     "output_type": "execute_result"
    }
   ],
   "source": [
    "lr = LinearRegression()\n",
    "lr_scores = cross_val_score(lr, X_train, y_train, cv=3)\n",
    "lr_scores.mean()"
   ]
  },
  {
   "cell_type": "code",
   "execution_count": 31,
   "id": "criminal-trading",
   "metadata": {},
   "outputs": [
    {
     "data": {
      "text/plain": [
       "0.8573872726904174"
      ]
     },
     "execution_count": 31,
     "metadata": {},
     "output_type": "execute_result"
    }
   ],
   "source": [
    "lasso = LassoCV(n_alphas=300, max_iter = 2200)\n",
    "lasso_scores = cross_val_score(lasso, X_train, y_train, cv=3)\n",
    "lasso_scores.mean()"
   ]
  },
  {
   "cell_type": "code",
   "execution_count": 32,
   "id": "compatible-parts",
   "metadata": {},
   "outputs": [
    {
     "data": {
      "text/plain": [
       "0.8572458457653943"
      ]
     },
     "execution_count": 32,
     "metadata": {},
     "output_type": "execute_result"
    }
   ],
   "source": [
    "ridge = RidgeCV(alphas=np.linspace(.1, 10, 100))\n",
    "ridge_scores = cross_val_score(ridge, X_train, y_train, cv=3)\n",
    "ridge_scores.mean()"
   ]
  },
  {
   "cell_type": "markdown",
   "id": "blind-template",
   "metadata": {},
   "source": [
    "# \n",
    "Lasso scores the best, so we will move forward and fit our variables to a Lasso model:\n"
   ]
  },
  {
   "cell_type": "code",
   "execution_count": 33,
   "id": "suspected-institute",
   "metadata": {},
   "outputs": [
    {
     "data": {
      "text/plain": [
       "LassoCV(max_iter=2200, n_alphas=300)"
      ]
     },
     "execution_count": 33,
     "metadata": {},
     "output_type": "execute_result"
    }
   ],
   "source": [
    "lasso.fit(X_train, y_train)"
   ]
  },
  {
   "cell_type": "markdown",
   "id": "applicable-armstrong",
   "metadata": {},
   "source": [
    "# \n",
    "Training Score:"
   ]
  },
  {
   "cell_type": "code",
   "execution_count": 34,
   "id": "presidential-companion",
   "metadata": {},
   "outputs": [
    {
     "data": {
      "text/plain": [
       "0.884910211858198"
      ]
     },
     "execution_count": 34,
     "metadata": {},
     "output_type": "execute_result"
    }
   ],
   "source": [
    "lasso.score(X_train, y_train)"
   ]
  },
  {
   "cell_type": "markdown",
   "id": "harmful-maker",
   "metadata": {},
   "source": [
    "# \n",
    "Testing Score:"
   ]
  },
  {
   "cell_type": "code",
   "execution_count": 35,
   "id": "sitting-importance",
   "metadata": {},
   "outputs": [
    {
     "data": {
      "text/plain": [
       "0.9135180771117881"
      ]
     },
     "execution_count": 35,
     "metadata": {},
     "output_type": "execute_result"
    }
   ],
   "source": [
    "lasso.score(X_test, y_test)"
   ]
  },
  {
   "cell_type": "markdown",
   "id": "favorite-sarah",
   "metadata": {},
   "source": [
    "# \n",
    "Cross Validation Score:"
   ]
  },
  {
   "cell_type": "code",
   "execution_count": 36,
   "id": "latter-market",
   "metadata": {},
   "outputs": [
    {
     "data": {
      "text/plain": [
       "0.8675870570772304"
      ]
     },
     "execution_count": 36,
     "metadata": {},
     "output_type": "execute_result"
    }
   ],
   "source": [
    "cross_val_score(lasso, X_train, y_train).mean()"
   ]
  },
  {
   "cell_type": "markdown",
   "id": "chicken-american",
   "metadata": {},
   "source": [
    "# \n",
    "Calculate a Baseline RMSE Score to compare to using the average sale price as our predictions for each row of data:"
   ]
  },
  {
   "cell_type": "code",
   "execution_count": 37,
   "id": "olympic-directory",
   "metadata": {},
   "outputs": [
    {
     "name": "stdout",
     "output_type": "stream",
     "text": [
      "This is our baseline RMSE:\n",
      "\n",
      "79281.58901824827\n"
     ]
    }
   ],
   "source": [
    "baseline_preds = [round(train_cleaned_numeric['SalePrice'].mean()) for x in y]\n",
    "print('This is our baseline RMSE:')\n",
    "print('')\n",
    "print(mean_squared_error(np.exp(y), baseline_preds, squared = False))"
   ]
  },
  {
   "cell_type": "markdown",
   "id": "prompt-wound",
   "metadata": {},
   "source": [
    "# \n",
    "Calculate mean squared error for our training and test predictions and take the square root to caclulate RMSE:"
   ]
  },
  {
   "cell_type": "code",
   "execution_count": 38,
   "id": "royal-project",
   "metadata": {},
   "outputs": [
    {
     "name": "stdout",
     "output_type": "stream",
     "text": [
      "Training Score:\n"
     ]
    },
    {
     "data": {
      "text/plain": [
       "38630.58071966364"
      ]
     },
     "execution_count": 38,
     "metadata": {},
     "output_type": "execute_result"
    }
   ],
   "source": [
    "print('Training Score:')\n",
    "mean_squared_error(np.exp(y_train), np.exp(lasso.predict(X_train)), squared = False)"
   ]
  },
  {
   "cell_type": "code",
   "execution_count": 39,
   "id": "rising-excellence",
   "metadata": {},
   "outputs": [
    {
     "name": "stdout",
     "output_type": "stream",
     "text": [
      "Testing Score:\n"
     ]
    },
    {
     "data": {
      "text/plain": [
       "20893.57523717234"
      ]
     },
     "execution_count": 39,
     "metadata": {},
     "output_type": "execute_result"
    }
   ],
   "source": [
    "print('Testing Score:')\n",
    "mean_squared_error(np.exp(y_test), np.exp(lasso.predict(X_test)), squared = False)"
   ]
  },
  {
   "cell_type": "markdown",
   "id": "victorian-nightlife",
   "metadata": {},
   "source": [
    "# \n",
    "Get test predictions in order to calculate residuals"
   ]
  },
  {
   "cell_type": "code",
   "execution_count": 40,
   "id": "postal-investigator",
   "metadata": {},
   "outputs": [],
   "source": [
    "test_preds = np.exp(lasso.predict(X_test))"
   ]
  },
  {
   "cell_type": "code",
   "execution_count": 41,
   "id": "conventional-monthly",
   "metadata": {},
   "outputs": [],
   "source": [
    "residuals = (np.exp(y_test) - test_preds)"
   ]
  },
  {
   "cell_type": "code",
   "execution_count": 42,
   "id": "proper-bidder",
   "metadata": {},
   "outputs": [
    {
     "name": "stdout",
     "output_type": "stream",
     "text": [
      "2115.6616044818347\n",
      "\n",
      "141083.35022248398\n",
      "\n",
      "-58922.283573638386\n"
     ]
    }
   ],
   "source": [
    "print(residuals.mean())\n",
    "print('')\n",
    "print(residuals.max())\n",
    "print('')\n",
    "print(residuals.min())"
   ]
  },
  {
   "cell_type": "markdown",
   "id": "funny-escape",
   "metadata": {},
   "source": [
    "# \n",
    "Display coefficients to determine how impactful each variable is in the model:"
   ]
  },
  {
   "cell_type": "code",
   "execution_count": 43,
   "id": "adequate-input",
   "metadata": {},
   "outputs": [
    {
     "data": {
      "text/html": [
       "<div>\n",
       "<style scoped>\n",
       "    .dataframe tbody tr th:only-of-type {\n",
       "        vertical-align: middle;\n",
       "    }\n",
       "\n",
       "    .dataframe tbody tr th {\n",
       "        vertical-align: top;\n",
       "    }\n",
       "\n",
       "    .dataframe thead th {\n",
       "        text-align: right;\n",
       "    }\n",
       "</style>\n",
       "<table border=\"1\" class=\"dataframe\">\n",
       "  <thead>\n",
       "    <tr style=\"text-align: right;\">\n",
       "      <th></th>\n",
       "      <th>Features</th>\n",
       "      <th>Coefficient</th>\n",
       "    </tr>\n",
       "  </thead>\n",
       "  <tbody>\n",
       "    <tr>\n",
       "      <th>0</th>\n",
       "      <td>Overall Qual</td>\n",
       "      <td>0.111918</td>\n",
       "    </tr>\n",
       "    <tr>\n",
       "      <th>1</th>\n",
       "      <td>Year Built</td>\n",
       "      <td>0.075632</td>\n",
       "    </tr>\n",
       "    <tr>\n",
       "      <th>2</th>\n",
       "      <td>BsmtFin SF 1</td>\n",
       "      <td>0.037438</td>\n",
       "    </tr>\n",
       "    <tr>\n",
       "      <th>3</th>\n",
       "      <td>1st Flr SF</td>\n",
       "      <td>0.106711</td>\n",
       "    </tr>\n",
       "    <tr>\n",
       "      <th>4</th>\n",
       "      <td>2nd Flr SF</td>\n",
       "      <td>0.088726</td>\n",
       "    </tr>\n",
       "    <tr>\n",
       "      <th>5</th>\n",
       "      <td>Kitchen Qual</td>\n",
       "      <td>0.029392</td>\n",
       "    </tr>\n",
       "    <tr>\n",
       "      <th>6</th>\n",
       "      <td>remodeled</td>\n",
       "      <td>0.003252</td>\n",
       "    </tr>\n",
       "    <tr>\n",
       "      <th>7</th>\n",
       "      <td>post_recession_sale</td>\n",
       "      <td>-0.007374</td>\n",
       "    </tr>\n",
       "    <tr>\n",
       "      <th>8</th>\n",
       "      <td>HasAlley</td>\n",
       "      <td>-0.000000</td>\n",
       "    </tr>\n",
       "    <tr>\n",
       "      <th>9</th>\n",
       "      <td>has_brick_face</td>\n",
       "      <td>0.002460</td>\n",
       "    </tr>\n",
       "    <tr>\n",
       "      <th>10</th>\n",
       "      <td>has_decent_garage</td>\n",
       "      <td>0.015109</td>\n",
       "    </tr>\n",
       "    <tr>\n",
       "      <th>11</th>\n",
       "      <td>floating_village</td>\n",
       "      <td>0.006908</td>\n",
       "    </tr>\n",
       "    <tr>\n",
       "      <th>12</th>\n",
       "      <td>low_density_residential</td>\n",
       "      <td>0.004137</td>\n",
       "    </tr>\n",
       "    <tr>\n",
       "      <th>13</th>\n",
       "      <td>gravel_street</td>\n",
       "      <td>-0.012640</td>\n",
       "    </tr>\n",
       "    <tr>\n",
       "      <th>14</th>\n",
       "      <td>on_hill</td>\n",
       "      <td>0.006539</td>\n",
       "    </tr>\n",
       "    <tr>\n",
       "      <th>15</th>\n",
       "      <td>in_culdesac</td>\n",
       "      <td>0.002557</td>\n",
       "    </tr>\n",
       "    <tr>\n",
       "      <th>16</th>\n",
       "      <td>near_artery_or_feeder</td>\n",
       "      <td>-0.016621</td>\n",
       "    </tr>\n",
       "    <tr>\n",
       "      <th>17</th>\n",
       "      <td>has_hip_roof</td>\n",
       "      <td>0.004647</td>\n",
       "    </tr>\n",
       "    <tr>\n",
       "      <th>18</th>\n",
       "      <td>nice_exterior</td>\n",
       "      <td>0.002875</td>\n",
       "    </tr>\n",
       "    <tr>\n",
       "      <th>19</th>\n",
       "      <td>has_poured_concrete_foundation</td>\n",
       "      <td>0.011524</td>\n",
       "    </tr>\n",
       "    <tr>\n",
       "      <th>20</th>\n",
       "      <td>poor_functionality</td>\n",
       "      <td>-0.024934</td>\n",
       "    </tr>\n",
       "    <tr>\n",
       "      <th>21</th>\n",
       "      <td>has_fireplace</td>\n",
       "      <td>0.022697</td>\n",
       "    </tr>\n",
       "    <tr>\n",
       "      <th>22</th>\n",
       "      <td>has_porch_or_deck</td>\n",
       "      <td>0.009662</td>\n",
       "    </tr>\n",
       "    <tr>\n",
       "      <th>23</th>\n",
       "      <td>log_overall_cond</td>\n",
       "      <td>0.055127</td>\n",
       "    </tr>\n",
       "    <tr>\n",
       "      <th>24</th>\n",
       "      <td>log_lot_area</td>\n",
       "      <td>0.055188</td>\n",
       "    </tr>\n",
       "    <tr>\n",
       "      <th>25</th>\n",
       "      <td>Neighborhood_Blueste</td>\n",
       "      <td>-0.000000</td>\n",
       "    </tr>\n",
       "    <tr>\n",
       "      <th>26</th>\n",
       "      <td>Neighborhood_BrDale</td>\n",
       "      <td>-0.006281</td>\n",
       "    </tr>\n",
       "    <tr>\n",
       "      <th>27</th>\n",
       "      <td>Neighborhood_BrkSide</td>\n",
       "      <td>0.000000</td>\n",
       "    </tr>\n",
       "    <tr>\n",
       "      <th>28</th>\n",
       "      <td>Neighborhood_ClearCr</td>\n",
       "      <td>0.005335</td>\n",
       "    </tr>\n",
       "    <tr>\n",
       "      <th>29</th>\n",
       "      <td>Neighborhood_CollgCr</td>\n",
       "      <td>0.000000</td>\n",
       "    </tr>\n",
       "    <tr>\n",
       "      <th>30</th>\n",
       "      <td>Neighborhood_Crawfor</td>\n",
       "      <td>0.012271</td>\n",
       "    </tr>\n",
       "    <tr>\n",
       "      <th>31</th>\n",
       "      <td>Neighborhood_Edwards</td>\n",
       "      <td>-0.020881</td>\n",
       "    </tr>\n",
       "    <tr>\n",
       "      <th>32</th>\n",
       "      <td>Neighborhood_Gilbert</td>\n",
       "      <td>-0.002562</td>\n",
       "    </tr>\n",
       "    <tr>\n",
       "      <th>33</th>\n",
       "      <td>Neighborhood_Greens</td>\n",
       "      <td>0.000018</td>\n",
       "    </tr>\n",
       "    <tr>\n",
       "      <th>34</th>\n",
       "      <td>Neighborhood_IDOTRR</td>\n",
       "      <td>-0.026687</td>\n",
       "    </tr>\n",
       "    <tr>\n",
       "      <th>35</th>\n",
       "      <td>Neighborhood_MeadowV</td>\n",
       "      <td>-0.004898</td>\n",
       "    </tr>\n",
       "    <tr>\n",
       "      <th>36</th>\n",
       "      <td>Neighborhood_Mitchel</td>\n",
       "      <td>-0.000000</td>\n",
       "    </tr>\n",
       "    <tr>\n",
       "      <th>37</th>\n",
       "      <td>Neighborhood_NAmes</td>\n",
       "      <td>0.000000</td>\n",
       "    </tr>\n",
       "    <tr>\n",
       "      <th>38</th>\n",
       "      <td>Neighborhood_NPkVill</td>\n",
       "      <td>0.000000</td>\n",
       "    </tr>\n",
       "    <tr>\n",
       "      <th>39</th>\n",
       "      <td>Neighborhood_NWAmes</td>\n",
       "      <td>-0.003767</td>\n",
       "    </tr>\n",
       "    <tr>\n",
       "      <th>40</th>\n",
       "      <td>Neighborhood_NoRidge</td>\n",
       "      <td>0.009914</td>\n",
       "    </tr>\n",
       "    <tr>\n",
       "      <th>41</th>\n",
       "      <td>Neighborhood_NridgHt</td>\n",
       "      <td>0.023897</td>\n",
       "    </tr>\n",
       "    <tr>\n",
       "      <th>42</th>\n",
       "      <td>Neighborhood_OldTown</td>\n",
       "      <td>-0.016114</td>\n",
       "    </tr>\n",
       "    <tr>\n",
       "      <th>43</th>\n",
       "      <td>Neighborhood_SWISU</td>\n",
       "      <td>-0.000000</td>\n",
       "    </tr>\n",
       "    <tr>\n",
       "      <th>44</th>\n",
       "      <td>Neighborhood_Sawyer</td>\n",
       "      <td>-0.000955</td>\n",
       "    </tr>\n",
       "    <tr>\n",
       "      <th>45</th>\n",
       "      <td>Neighborhood_SawyerW</td>\n",
       "      <td>-0.007776</td>\n",
       "    </tr>\n",
       "    <tr>\n",
       "      <th>46</th>\n",
       "      <td>Neighborhood_Somerst</td>\n",
       "      <td>0.008959</td>\n",
       "    </tr>\n",
       "    <tr>\n",
       "      <th>47</th>\n",
       "      <td>Neighborhood_StoneBr</td>\n",
       "      <td>0.011449</td>\n",
       "    </tr>\n",
       "    <tr>\n",
       "      <th>48</th>\n",
       "      <td>Neighborhood_Timber</td>\n",
       "      <td>-0.000000</td>\n",
       "    </tr>\n",
       "    <tr>\n",
       "      <th>49</th>\n",
       "      <td>Neighborhood_Veenker</td>\n",
       "      <td>-0.000000</td>\n",
       "    </tr>\n",
       "  </tbody>\n",
       "</table>\n",
       "</div>"
      ],
      "text/plain": [
       "                          Features  Coefficient\n",
       "0                     Overall Qual     0.111918\n",
       "1                       Year Built     0.075632\n",
       "2                     BsmtFin SF 1     0.037438\n",
       "3                       1st Flr SF     0.106711\n",
       "4                       2nd Flr SF     0.088726\n",
       "5                     Kitchen Qual     0.029392\n",
       "6                        remodeled     0.003252\n",
       "7              post_recession_sale    -0.007374\n",
       "8                         HasAlley    -0.000000\n",
       "9                   has_brick_face     0.002460\n",
       "10               has_decent_garage     0.015109\n",
       "11                floating_village     0.006908\n",
       "12         low_density_residential     0.004137\n",
       "13                   gravel_street    -0.012640\n",
       "14                         on_hill     0.006539\n",
       "15                     in_culdesac     0.002557\n",
       "16           near_artery_or_feeder    -0.016621\n",
       "17                    has_hip_roof     0.004647\n",
       "18                   nice_exterior     0.002875\n",
       "19  has_poured_concrete_foundation     0.011524\n",
       "20              poor_functionality    -0.024934\n",
       "21                   has_fireplace     0.022697\n",
       "22               has_porch_or_deck     0.009662\n",
       "23                log_overall_cond     0.055127\n",
       "24                    log_lot_area     0.055188\n",
       "25            Neighborhood_Blueste    -0.000000\n",
       "26             Neighborhood_BrDale    -0.006281\n",
       "27            Neighborhood_BrkSide     0.000000\n",
       "28            Neighborhood_ClearCr     0.005335\n",
       "29            Neighborhood_CollgCr     0.000000\n",
       "30            Neighborhood_Crawfor     0.012271\n",
       "31            Neighborhood_Edwards    -0.020881\n",
       "32            Neighborhood_Gilbert    -0.002562\n",
       "33             Neighborhood_Greens     0.000018\n",
       "34             Neighborhood_IDOTRR    -0.026687\n",
       "35            Neighborhood_MeadowV    -0.004898\n",
       "36            Neighborhood_Mitchel    -0.000000\n",
       "37              Neighborhood_NAmes     0.000000\n",
       "38            Neighborhood_NPkVill     0.000000\n",
       "39             Neighborhood_NWAmes    -0.003767\n",
       "40            Neighborhood_NoRidge     0.009914\n",
       "41            Neighborhood_NridgHt     0.023897\n",
       "42            Neighborhood_OldTown    -0.016114\n",
       "43              Neighborhood_SWISU    -0.000000\n",
       "44             Neighborhood_Sawyer    -0.000955\n",
       "45            Neighborhood_SawyerW    -0.007776\n",
       "46            Neighborhood_Somerst     0.008959\n",
       "47            Neighborhood_StoneBr     0.011449\n",
       "48             Neighborhood_Timber    -0.000000\n",
       "49            Neighborhood_Veenker    -0.000000"
      ]
     },
     "execution_count": 43,
     "metadata": {},
     "output_type": "execute_result"
    }
   ],
   "source": [
    "model_coefficients = pd.DataFrame(list(zip(features, lasso.coef_)), columns =['Features', 'Coefficient'])\n",
    "model_coefficients"
   ]
  },
  {
   "cell_type": "markdown",
   "id": "united-buddy",
   "metadata": {},
   "source": [
    "## Model Analysis"
   ]
  },
  {
   "cell_type": "markdown",
   "id": "indirect-context",
   "metadata": {},
   "source": [
    "This model is significantly better than our baseline model and score. Our testing score is over 100% less than the baseline score.\n",
    "###### \n",
    "Our training R2 score is less than our baseline model, but that's because we allowed for higher bias in order to lower the variance. This results in a higher test score, meaning our model performs better on new data, which is the point of the model.\n",
    "###### \n",
    "Key to our model was using the logarithmic transformation on the Sale Price. This created a more normal distribution and significantly improved our model. We also did the same thing to the Lot Area and Overall Condition independent variables.\n",
    "###### \n",
    "This model allows us to infer that the selected variables help predict the sale price of a home. I will elaborate more on this in the conclusions portion of this report:\n",
    "\n",
    "[Link to Conclusions](Conclusions.ipynb)\n",
    "\n",
    "[Back to Table of Contents](../README.md)"
   ]
  },
  {
   "cell_type": "code",
   "execution_count": null,
   "id": "accessory-affair",
   "metadata": {},
   "outputs": [],
   "source": []
  }
 ],
 "metadata": {
  "kernelspec": {
   "display_name": "Python 3",
   "language": "python",
   "name": "python3"
  },
  "language_info": {
   "codemirror_mode": {
    "name": "ipython",
    "version": 3
   },
   "file_extension": ".py",
   "mimetype": "text/x-python",
   "name": "python",
   "nbconvert_exporter": "python",
   "pygments_lexer": "ipython3",
   "version": "3.8.5"
  }
 },
 "nbformat": 4,
 "nbformat_minor": 5
}
