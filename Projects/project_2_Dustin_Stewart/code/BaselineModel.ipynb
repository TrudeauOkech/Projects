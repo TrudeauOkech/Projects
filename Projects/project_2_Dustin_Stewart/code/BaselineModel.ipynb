{
 "cells": [
  {
   "cell_type": "markdown",
   "id": "different-movement",
   "metadata": {},
   "source": [
    "## Creating a Baseline Model"
   ]
  },
  {
   "cell_type": "markdown",
   "id": "otherwise-wallet",
   "metadata": {},
   "source": [
    "Import libraries and change settings:"
   ]
  },
  {
   "cell_type": "code",
   "execution_count": 1,
   "id": "broke-contract",
   "metadata": {},
   "outputs": [],
   "source": [
    "import matplotlib.pyplot as plt\n",
    "import numpy as np\n",
    "import pandas as pd\n",
    "import seaborn as sns\n",
    "from sklearn.linear_model import LinearRegression, LassoCV, RidgeCV\n",
    "from sklearn.preprocessing import PolynomialFeatures, StandardScaler, MinMaxScaler, PowerTransformer\n",
    "from sklearn.model_selection import train_test_split, cross_val_score, cross_val_predict\n",
    "from sklearn.metrics import r2_score, mean_squared_error\n",
    "pd.set_option('display.max_rows', 100)\n",
    "pd.set_option('display.max_columns', 100)"
   ]
  },
  {
   "cell_type": "markdown",
   "id": "painful-traffic",
   "metadata": {},
   "source": [
    "# \n",
    "Import our cleaned training data:"
   ]
  },
  {
   "cell_type": "code",
   "execution_count": 2,
   "id": "unusual-scientist",
   "metadata": {},
   "outputs": [],
   "source": [
    "train_cleaned = pd.read_csv('../data/train_clean.csv')"
   ]
  },
  {
   "cell_type": "markdown",
   "id": "right-mailman",
   "metadata": {},
   "source": [
    "# \n",
    "Convert to numeric as those will be the only variables we need in our model:"
   ]
  },
  {
   "cell_type": "code",
   "execution_count": 3,
   "id": "fantastic-preservation",
   "metadata": {},
   "outputs": [],
   "source": [
    "train_cleaned_numeric = train_cleaned.select_dtypes(include = np.number)"
   ]
  },
  {
   "cell_type": "code",
   "execution_count": 4,
   "id": "hourly-georgia",
   "metadata": {},
   "outputs": [
    {
     "data": {
      "text/html": [
       "<div>\n",
       "<style scoped>\n",
       "    .dataframe tbody tr th:only-of-type {\n",
       "        vertical-align: middle;\n",
       "    }\n",
       "\n",
       "    .dataframe tbody tr th {\n",
       "        vertical-align: top;\n",
       "    }\n",
       "\n",
       "    .dataframe thead th {\n",
       "        text-align: right;\n",
       "    }\n",
       "</style>\n",
       "<table border=\"1\" class=\"dataframe\">\n",
       "  <thead>\n",
       "    <tr style=\"text-align: right;\">\n",
       "      <th></th>\n",
       "      <th>Id</th>\n",
       "      <th>MS SubClass</th>\n",
       "      <th>Lot Area</th>\n",
       "      <th>Overall Qual</th>\n",
       "      <th>Overall Cond</th>\n",
       "      <th>Year Built</th>\n",
       "      <th>Year Remod/Add</th>\n",
       "      <th>BsmtFin SF 1</th>\n",
       "      <th>Total Bsmt SF</th>\n",
       "      <th>Central Air</th>\n",
       "      <th>1st Flr SF</th>\n",
       "      <th>2nd Flr SF</th>\n",
       "      <th>Low Qual Fin SF</th>\n",
       "      <th>Gr Liv Area</th>\n",
       "      <th>Bsmt Full Bath</th>\n",
       "      <th>Full Bath</th>\n",
       "      <th>Bedroom AbvGr</th>\n",
       "      <th>Kitchen Qual</th>\n",
       "      <th>TotRms AbvGrd</th>\n",
       "      <th>Fireplaces</th>\n",
       "      <th>Garage Area</th>\n",
       "      <th>Wood Deck SF</th>\n",
       "      <th>Open Porch SF</th>\n",
       "      <th>SalePrice</th>\n",
       "      <th>remodeled</th>\n",
       "      <th>post_recession_sale</th>\n",
       "      <th>HasAlley</th>\n",
       "      <th>has_brick_face</th>\n",
       "      <th>has_basement</th>\n",
       "      <th>has_attached_garage</th>\n",
       "      <th>has_decent_garage</th>\n",
       "      <th>has_nice_fence</th>\n",
       "      <th>newer</th>\n",
       "      <th>pre_war</th>\n",
       "      <th>two_story</th>\n",
       "      <th>planned_development</th>\n",
       "      <th>split</th>\n",
       "      <th>floating_village</th>\n",
       "      <th>low_density_residential</th>\n",
       "      <th>gravel_street</th>\n",
       "      <th>on_hill</th>\n",
       "      <th>in_culdesac</th>\n",
       "      <th>good_hood</th>\n",
       "      <th>bad_hood</th>\n",
       "      <th>near_artery_or_feeder</th>\n",
       "      <th>has_hip_roof</th>\n",
       "      <th>nice_exterior</th>\n",
       "      <th>has_poured_concrete_foundation</th>\n",
       "      <th>poor_functionality</th>\n",
       "      <th>has_fireplace</th>\n",
       "      <th>has_paved_drive</th>\n",
       "      <th>has_porch_or_deck</th>\n",
       "      <th>log_overall_cond</th>\n",
       "      <th>log_lot_area</th>\n",
       "      <th>Neighborhood_Blueste</th>\n",
       "      <th>Neighborhood_BrDale</th>\n",
       "      <th>Neighborhood_BrkSide</th>\n",
       "      <th>Neighborhood_ClearCr</th>\n",
       "      <th>Neighborhood_CollgCr</th>\n",
       "      <th>Neighborhood_Crawfor</th>\n",
       "      <th>Neighborhood_Edwards</th>\n",
       "      <th>Neighborhood_Gilbert</th>\n",
       "      <th>Neighborhood_Greens</th>\n",
       "      <th>Neighborhood_IDOTRR</th>\n",
       "      <th>Neighborhood_MeadowV</th>\n",
       "      <th>Neighborhood_Mitchel</th>\n",
       "      <th>Neighborhood_NAmes</th>\n",
       "      <th>Neighborhood_NPkVill</th>\n",
       "      <th>Neighborhood_NWAmes</th>\n",
       "      <th>Neighborhood_NoRidge</th>\n",
       "      <th>Neighborhood_NridgHt</th>\n",
       "      <th>Neighborhood_OldTown</th>\n",
       "      <th>Neighborhood_SWISU</th>\n",
       "      <th>Neighborhood_Sawyer</th>\n",
       "      <th>Neighborhood_SawyerW</th>\n",
       "      <th>Neighborhood_Somerst</th>\n",
       "      <th>Neighborhood_StoneBr</th>\n",
       "      <th>Neighborhood_Timber</th>\n",
       "      <th>Neighborhood_Veenker</th>\n",
       "    </tr>\n",
       "  </thead>\n",
       "  <tbody>\n",
       "    <tr>\n",
       "      <th>0</th>\n",
       "      <td>109.0</td>\n",
       "      <td>60.0</td>\n",
       "      <td>13517.0</td>\n",
       "      <td>6.0</td>\n",
       "      <td>8.0</td>\n",
       "      <td>1976.0</td>\n",
       "      <td>2005.0</td>\n",
       "      <td>533.0</td>\n",
       "      <td>725.0</td>\n",
       "      <td>1.0</td>\n",
       "      <td>725.0</td>\n",
       "      <td>754.0</td>\n",
       "      <td>0.0</td>\n",
       "      <td>1479.0</td>\n",
       "      <td>0.0</td>\n",
       "      <td>2.0</td>\n",
       "      <td>3.0</td>\n",
       "      <td>3.0</td>\n",
       "      <td>6.0</td>\n",
       "      <td>0.0</td>\n",
       "      <td>475.0</td>\n",
       "      <td>0.0</td>\n",
       "      <td>44.0</td>\n",
       "      <td>130500.0</td>\n",
       "      <td>1.0</td>\n",
       "      <td>1.0</td>\n",
       "      <td>0.0</td>\n",
       "      <td>1.0</td>\n",
       "      <td>1.0</td>\n",
       "      <td>1.0</td>\n",
       "      <td>1.0</td>\n",
       "      <td>0.0</td>\n",
       "      <td>1.0</td>\n",
       "      <td>0.0</td>\n",
       "      <td>1.0</td>\n",
       "      <td>0.0</td>\n",
       "      <td>0.0</td>\n",
       "      <td>0.0</td>\n",
       "      <td>1.0</td>\n",
       "      <td>0.0</td>\n",
       "      <td>0.0</td>\n",
       "      <td>1.0</td>\n",
       "      <td>1.0</td>\n",
       "      <td>1.0</td>\n",
       "      <td>0.0</td>\n",
       "      <td>0.0</td>\n",
       "      <td>1.0</td>\n",
       "      <td>0.0</td>\n",
       "      <td>0</td>\n",
       "      <td>0</td>\n",
       "      <td>1</td>\n",
       "      <td>1</td>\n",
       "      <td>2.079442</td>\n",
       "      <td>9.511703</td>\n",
       "      <td>0</td>\n",
       "      <td>0</td>\n",
       "      <td>0</td>\n",
       "      <td>0</td>\n",
       "      <td>0</td>\n",
       "      <td>0</td>\n",
       "      <td>0</td>\n",
       "      <td>0</td>\n",
       "      <td>0</td>\n",
       "      <td>0</td>\n",
       "      <td>0</td>\n",
       "      <td>0</td>\n",
       "      <td>0</td>\n",
       "      <td>0</td>\n",
       "      <td>0</td>\n",
       "      <td>0</td>\n",
       "      <td>0</td>\n",
       "      <td>0</td>\n",
       "      <td>0</td>\n",
       "      <td>1</td>\n",
       "      <td>0</td>\n",
       "      <td>0</td>\n",
       "      <td>0</td>\n",
       "      <td>0</td>\n",
       "      <td>0</td>\n",
       "    </tr>\n",
       "    <tr>\n",
       "      <th>1</th>\n",
       "      <td>544.0</td>\n",
       "      <td>60.0</td>\n",
       "      <td>11492.0</td>\n",
       "      <td>7.0</td>\n",
       "      <td>5.0</td>\n",
       "      <td>1996.0</td>\n",
       "      <td>1997.0</td>\n",
       "      <td>637.0</td>\n",
       "      <td>913.0</td>\n",
       "      <td>1.0</td>\n",
       "      <td>913.0</td>\n",
       "      <td>1209.0</td>\n",
       "      <td>0.0</td>\n",
       "      <td>2122.0</td>\n",
       "      <td>1.0</td>\n",
       "      <td>2.0</td>\n",
       "      <td>4.0</td>\n",
       "      <td>3.0</td>\n",
       "      <td>8.0</td>\n",
       "      <td>1.0</td>\n",
       "      <td>559.0</td>\n",
       "      <td>0.0</td>\n",
       "      <td>74.0</td>\n",
       "      <td>220000.0</td>\n",
       "      <td>1.0</td>\n",
       "      <td>1.0</td>\n",
       "      <td>0.0</td>\n",
       "      <td>1.0</td>\n",
       "      <td>1.0</td>\n",
       "      <td>1.0</td>\n",
       "      <td>1.0</td>\n",
       "      <td>0.0</td>\n",
       "      <td>1.0</td>\n",
       "      <td>0.0</td>\n",
       "      <td>1.0</td>\n",
       "      <td>0.0</td>\n",
       "      <td>0.0</td>\n",
       "      <td>0.0</td>\n",
       "      <td>1.0</td>\n",
       "      <td>0.0</td>\n",
       "      <td>0.0</td>\n",
       "      <td>1.0</td>\n",
       "      <td>1.0</td>\n",
       "      <td>1.0</td>\n",
       "      <td>0.0</td>\n",
       "      <td>0.0</td>\n",
       "      <td>1.0</td>\n",
       "      <td>1.0</td>\n",
       "      <td>0</td>\n",
       "      <td>1</td>\n",
       "      <td>1</td>\n",
       "      <td>1</td>\n",
       "      <td>1.609438</td>\n",
       "      <td>9.349406</td>\n",
       "      <td>0</td>\n",
       "      <td>0</td>\n",
       "      <td>0</td>\n",
       "      <td>0</td>\n",
       "      <td>0</td>\n",
       "      <td>0</td>\n",
       "      <td>0</td>\n",
       "      <td>0</td>\n",
       "      <td>0</td>\n",
       "      <td>0</td>\n",
       "      <td>0</td>\n",
       "      <td>0</td>\n",
       "      <td>0</td>\n",
       "      <td>0</td>\n",
       "      <td>0</td>\n",
       "      <td>0</td>\n",
       "      <td>0</td>\n",
       "      <td>0</td>\n",
       "      <td>0</td>\n",
       "      <td>0</td>\n",
       "      <td>1</td>\n",
       "      <td>0</td>\n",
       "      <td>0</td>\n",
       "      <td>0</td>\n",
       "      <td>0</td>\n",
       "    </tr>\n",
       "  </tbody>\n",
       "</table>\n",
       "</div>"
      ],
      "text/plain": [
       "      Id  MS SubClass  Lot Area  Overall Qual  Overall Cond  Year Built  \\\n",
       "0  109.0         60.0   13517.0           6.0           8.0      1976.0   \n",
       "1  544.0         60.0   11492.0           7.0           5.0      1996.0   \n",
       "\n",
       "   Year Remod/Add  BsmtFin SF 1  Total Bsmt SF  Central Air  1st Flr SF  \\\n",
       "0          2005.0         533.0          725.0          1.0       725.0   \n",
       "1          1997.0         637.0          913.0          1.0       913.0   \n",
       "\n",
       "   2nd Flr SF  Low Qual Fin SF  Gr Liv Area  Bsmt Full Bath  Full Bath  \\\n",
       "0       754.0              0.0       1479.0             0.0        2.0   \n",
       "1      1209.0              0.0       2122.0             1.0        2.0   \n",
       "\n",
       "   Bedroom AbvGr  Kitchen Qual  TotRms AbvGrd  Fireplaces  Garage Area  \\\n",
       "0            3.0           3.0            6.0         0.0        475.0   \n",
       "1            4.0           3.0            8.0         1.0        559.0   \n",
       "\n",
       "   Wood Deck SF  Open Porch SF  SalePrice  remodeled  post_recession_sale  \\\n",
       "0           0.0           44.0   130500.0        1.0                  1.0   \n",
       "1           0.0           74.0   220000.0        1.0                  1.0   \n",
       "\n",
       "   HasAlley  has_brick_face  has_basement  has_attached_garage  \\\n",
       "0       0.0             1.0           1.0                  1.0   \n",
       "1       0.0             1.0           1.0                  1.0   \n",
       "\n",
       "   has_decent_garage  has_nice_fence  newer  pre_war  two_story  \\\n",
       "0                1.0             0.0    1.0      0.0        1.0   \n",
       "1                1.0             0.0    1.0      0.0        1.0   \n",
       "\n",
       "   planned_development  split  floating_village  low_density_residential  \\\n",
       "0                  0.0    0.0               0.0                      1.0   \n",
       "1                  0.0    0.0               0.0                      1.0   \n",
       "\n",
       "   gravel_street  on_hill  in_culdesac  good_hood  bad_hood  \\\n",
       "0            0.0      0.0          1.0        1.0       1.0   \n",
       "1            0.0      0.0          1.0        1.0       1.0   \n",
       "\n",
       "   near_artery_or_feeder  has_hip_roof  nice_exterior  \\\n",
       "0                    0.0           0.0            1.0   \n",
       "1                    0.0           0.0            1.0   \n",
       "\n",
       "   has_poured_concrete_foundation  poor_functionality  has_fireplace  \\\n",
       "0                             0.0                   0              0   \n",
       "1                             1.0                   0              1   \n",
       "\n",
       "   has_paved_drive  has_porch_or_deck  log_overall_cond  log_lot_area  \\\n",
       "0                1                  1          2.079442      9.511703   \n",
       "1                1                  1          1.609438      9.349406   \n",
       "\n",
       "   Neighborhood_Blueste  Neighborhood_BrDale  Neighborhood_BrkSide  \\\n",
       "0                     0                    0                     0   \n",
       "1                     0                    0                     0   \n",
       "\n",
       "   Neighborhood_ClearCr  Neighborhood_CollgCr  Neighborhood_Crawfor  \\\n",
       "0                     0                     0                     0   \n",
       "1                     0                     0                     0   \n",
       "\n",
       "   Neighborhood_Edwards  Neighborhood_Gilbert  Neighborhood_Greens  \\\n",
       "0                     0                     0                    0   \n",
       "1                     0                     0                    0   \n",
       "\n",
       "   Neighborhood_IDOTRR  Neighborhood_MeadowV  Neighborhood_Mitchel  \\\n",
       "0                    0                     0                     0   \n",
       "1                    0                     0                     0   \n",
       "\n",
       "   Neighborhood_NAmes  Neighborhood_NPkVill  Neighborhood_NWAmes  \\\n",
       "0                   0                     0                    0   \n",
       "1                   0                     0                    0   \n",
       "\n",
       "   Neighborhood_NoRidge  Neighborhood_NridgHt  Neighborhood_OldTown  \\\n",
       "0                     0                     0                     0   \n",
       "1                     0                     0                     0   \n",
       "\n",
       "   Neighborhood_SWISU  Neighborhood_Sawyer  Neighborhood_SawyerW  \\\n",
       "0                   0                    1                     0   \n",
       "1                   0                    0                     1   \n",
       "\n",
       "   Neighborhood_Somerst  Neighborhood_StoneBr  Neighborhood_Timber  \\\n",
       "0                     0                     0                    0   \n",
       "1                     0                     0                    0   \n",
       "\n",
       "   Neighborhood_Veenker  \n",
       "0                     0  \n",
       "1                     0  "
      ]
     },
     "execution_count": 4,
     "metadata": {},
     "output_type": "execute_result"
    }
   ],
   "source": [
    "train_cleaned_numeric.head(2)"
   ]
  },
  {
   "cell_type": "markdown",
   "id": "strong-terry",
   "metadata": {},
   "source": [
    "# \n",
    "### The Model\n",
    "###### \n",
    "Create the Independent Variables (X) and the dependent variable (Y) for our model:"
   ]
  },
  {
   "cell_type": "code",
   "execution_count": 5,
   "id": "political-burst",
   "metadata": {},
   "outputs": [],
   "source": [
    "features = train_cleaned_numeric.drop(columns = ['Id', 'SalePrice','MS SubClass']).columns\n",
    "X = train_cleaned_numeric[features]\n",
    "y = np.log(train_cleaned_numeric['SalePrice'])"
   ]
  },
  {
   "cell_type": "markdown",
   "id": "registered-stevens",
   "metadata": {},
   "source": [
    "# \n",
    "Split data into training and test:"
   ]
  },
  {
   "cell_type": "code",
   "execution_count": 6,
   "id": "delayed-artist",
   "metadata": {},
   "outputs": [],
   "source": [
    "X_train, X_test, y_train, y_test = train_test_split(X, y)"
   ]
  },
  {
   "cell_type": "markdown",
   "id": "prostate-highlight",
   "metadata": {},
   "source": [
    "# \n",
    "Scale the data to put all variables on a comparable scale:"
   ]
  },
  {
   "cell_type": "code",
   "execution_count": 7,
   "id": "incredible-traffic",
   "metadata": {},
   "outputs": [],
   "source": [
    "ss = StandardScaler()\n",
    "ss.fit(X_train)\n",
    "X_train = ss.transform(X_train)\n",
    "X_test = ss.transform(X_test)"
   ]
  },
  {
   "cell_type": "markdown",
   "id": "closing-substitute",
   "metadata": {},
   "source": [
    "# \n",
    "Compare different models to decide which is best:"
   ]
  },
  {
   "cell_type": "code",
   "execution_count": 8,
   "id": "intimate-senior",
   "metadata": {},
   "outputs": [
    {
     "data": {
      "text/plain": [
       "-16220469623.893843"
      ]
     },
     "execution_count": 8,
     "metadata": {},
     "output_type": "execute_result"
    }
   ],
   "source": [
    "lr = LinearRegression()\n",
    "lr_scores = cross_val_score(lr, X_train, y_train, cv=3)\n",
    "lr_scores.mean()"
   ]
  },
  {
   "cell_type": "code",
   "execution_count": 9,
   "id": "exciting-document",
   "metadata": {},
   "outputs": [
    {
     "data": {
      "text/plain": [
       "0.9069649620221881"
      ]
     },
     "execution_count": 9,
     "metadata": {},
     "output_type": "execute_result"
    }
   ],
   "source": [
    "lasso = LassoCV(n_alphas=300, max_iter = 2200)\n",
    "lasso_scores = cross_val_score(lasso, X_train, y_train, cv=3)\n",
    "lasso_scores.mean()"
   ]
  },
  {
   "cell_type": "code",
   "execution_count": 10,
   "id": "hidden-graham",
   "metadata": {},
   "outputs": [
    {
     "data": {
      "text/plain": [
       "0.9056541327920496"
      ]
     },
     "execution_count": 10,
     "metadata": {},
     "output_type": "execute_result"
    }
   ],
   "source": [
    "ridge = RidgeCV(alphas=np.linspace(.1, 10, 100))\n",
    "ridge_scores = cross_val_score(ridge, X_train, y_train, cv=3)\n",
    "ridge_scores.mean()"
   ]
  },
  {
   "cell_type": "markdown",
   "id": "sporting-consolidation",
   "metadata": {},
   "source": [
    "# \n",
    "Lasso scores the best, so we will move forward and fit our variables to a Lasso model:\n"
   ]
  },
  {
   "cell_type": "code",
   "execution_count": 11,
   "id": "optical-sunglasses",
   "metadata": {},
   "outputs": [
    {
     "data": {
      "text/plain": [
       "LassoCV(max_iter=2200, n_alphas=300)"
      ]
     },
     "execution_count": 11,
     "metadata": {},
     "output_type": "execute_result"
    }
   ],
   "source": [
    "lasso.fit(X_train, y_train)"
   ]
  },
  {
   "cell_type": "markdown",
   "id": "perfect-theorem",
   "metadata": {},
   "source": [
    "# \n",
    "Training Score:"
   ]
  },
  {
   "cell_type": "code",
   "execution_count": 12,
   "id": "subject-humor",
   "metadata": {},
   "outputs": [
    {
     "data": {
      "text/plain": [
       "0.9162051979832235"
      ]
     },
     "execution_count": 12,
     "metadata": {},
     "output_type": "execute_result"
    }
   ],
   "source": [
    "lasso.score(X_train, y_train)"
   ]
  },
  {
   "cell_type": "markdown",
   "id": "caring-integral",
   "metadata": {},
   "source": [
    "# \n",
    "Testing Score:"
   ]
  },
  {
   "cell_type": "code",
   "execution_count": 13,
   "id": "collective-fourth",
   "metadata": {},
   "outputs": [
    {
     "data": {
      "text/plain": [
       "0.8399868550263816"
      ]
     },
     "execution_count": 13,
     "metadata": {},
     "output_type": "execute_result"
    }
   ],
   "source": [
    "lasso.score(X_test, y_test)"
   ]
  },
  {
   "cell_type": "markdown",
   "id": "fabulous-happening",
   "metadata": {},
   "source": [
    "# \n",
    "Calculate a Baseline RMSE Score to compare to using the average sale price as our predictions for each row of data:"
   ]
  },
  {
   "cell_type": "code",
   "execution_count": 14,
   "id": "ambient-slovenia",
   "metadata": {},
   "outputs": [
    {
     "name": "stdout",
     "output_type": "stream",
     "text": [
      "This is our baseline RMSE:\n",
      "\n",
      "79281.58901824827\n"
     ]
    }
   ],
   "source": [
    "baseline_preds = [round(train_cleaned_numeric['SalePrice'].mean()) for x in y]\n",
    "print('This is our baseline RMSE:')\n",
    "print('')\n",
    "print(mean_squared_error(np.exp(y), baseline_preds, squared = False))"
   ]
  },
  {
   "cell_type": "markdown",
   "id": "surprising-philippines",
   "metadata": {},
   "source": [
    "# \n",
    "Calculate mean squared error for our training and test predictions and take the square root to caclulate RMSE:"
   ]
  },
  {
   "cell_type": "code",
   "execution_count": 15,
   "id": "oriented-bench",
   "metadata": {},
   "outputs": [
    {
     "name": "stdout",
     "output_type": "stream",
     "text": [
      "Training Score:\n"
     ]
    },
    {
     "data": {
      "text/plain": [
       "20276.681516040342"
      ]
     },
     "execution_count": 15,
     "metadata": {},
     "output_type": "execute_result"
    }
   ],
   "source": [
    "print('Training Score:')\n",
    "mean_squared_error(np.exp(y_train), np.exp(lasso.predict(X_train)), squared = False)"
   ]
  },
  {
   "cell_type": "code",
   "execution_count": 16,
   "id": "british-continuity",
   "metadata": {},
   "outputs": [
    {
     "name": "stdout",
     "output_type": "stream",
     "text": [
      "Testing Score:\n"
     ]
    },
    {
     "data": {
      "text/plain": [
       "98711.63221588785"
      ]
     },
     "execution_count": 16,
     "metadata": {},
     "output_type": "execute_result"
    }
   ],
   "source": [
    "print('Testing Score:')\n",
    "mean_squared_error(np.exp(y_test), np.exp(lasso.predict(X_test)), squared = False)"
   ]
  },
  {
   "cell_type": "markdown",
   "id": "unusual-innocent",
   "metadata": {},
   "source": [
    "# \n",
    "Get test predictions in order to calculate residuals"
   ]
  },
  {
   "cell_type": "code",
   "execution_count": 17,
   "id": "flying-stake",
   "metadata": {},
   "outputs": [],
   "source": [
    "test_preds = np.exp(lasso.predict(X_test))"
   ]
  },
  {
   "cell_type": "code",
   "execution_count": 18,
   "id": "final-mayor",
   "metadata": {},
   "outputs": [],
   "source": [
    "residuals = (np.exp(y_test) - test_preds)"
   ]
  },
  {
   "cell_type": "code",
   "execution_count": 19,
   "id": "congressional-uruguay",
   "metadata": {},
   "outputs": [
    {
     "name": "stdout",
     "output_type": "stream",
     "text": [
      "-2407.6536942564935\n",
      "\n",
      "142073.147704585\n",
      "\n",
      "-2176931.168902581\n"
     ]
    }
   ],
   "source": [
    "print(residuals.mean())\n",
    "print('')\n",
    "print(residuals.max())\n",
    "print('')\n",
    "print(residuals.min())"
   ]
  },
  {
   "cell_type": "markdown",
   "id": "legitimate-chemistry",
   "metadata": {},
   "source": [
    "# \n",
    "Display coefficients to determine how impactful each variable is in the model:"
   ]
  },
  {
   "cell_type": "code",
   "execution_count": 20,
   "id": "behavioral-destiny",
   "metadata": {},
   "outputs": [
    {
     "data": {
      "text/html": [
       "<div>\n",
       "<style scoped>\n",
       "    .dataframe tbody tr th:only-of-type {\n",
       "        vertical-align: middle;\n",
       "    }\n",
       "\n",
       "    .dataframe tbody tr th {\n",
       "        vertical-align: top;\n",
       "    }\n",
       "\n",
       "    .dataframe thead th {\n",
       "        text-align: right;\n",
       "    }\n",
       "</style>\n",
       "<table border=\"1\" class=\"dataframe\">\n",
       "  <thead>\n",
       "    <tr style=\"text-align: right;\">\n",
       "      <th></th>\n",
       "      <th>Features</th>\n",
       "      <th>Coefficient</th>\n",
       "    </tr>\n",
       "  </thead>\n",
       "  <tbody>\n",
       "    <tr>\n",
       "      <th>0</th>\n",
       "      <td>Lot Area</td>\n",
       "      <td>0.000000</td>\n",
       "    </tr>\n",
       "    <tr>\n",
       "      <th>1</th>\n",
       "      <td>Overall Qual</td>\n",
       "      <td>0.097164</td>\n",
       "    </tr>\n",
       "    <tr>\n",
       "      <th>2</th>\n",
       "      <td>Overall Cond</td>\n",
       "      <td>0.000000</td>\n",
       "    </tr>\n",
       "    <tr>\n",
       "      <th>3</th>\n",
       "      <td>Year Built</td>\n",
       "      <td>0.064722</td>\n",
       "    </tr>\n",
       "    <tr>\n",
       "      <th>4</th>\n",
       "      <td>Year Remod/Add</td>\n",
       "      <td>0.014553</td>\n",
       "    </tr>\n",
       "  </tbody>\n",
       "</table>\n",
       "</div>"
      ],
      "text/plain": [
       "         Features  Coefficient\n",
       "0        Lot Area     0.000000\n",
       "1    Overall Qual     0.097164\n",
       "2    Overall Cond     0.000000\n",
       "3      Year Built     0.064722\n",
       "4  Year Remod/Add     0.014553"
      ]
     },
     "execution_count": 20,
     "metadata": {},
     "output_type": "execute_result"
    }
   ],
   "source": [
    "model_coefficients = pd.DataFrame(list(zip(features, lasso.coef_)), columns =['Features', 'Coefficient'])\n",
    "model_coefficients.head()"
   ]
  },
  {
   "cell_type": "markdown",
   "id": "assisted-davis",
   "metadata": {},
   "source": [
    "# \n",
    "### Analysis\n",
    "We can evaluate these coefficients and recursively make changes to the model. This R2 training score is something to keep in in mind as this is the score of an overfit model with low bias. The lower test score reflects indicates that the model has high variance and will not perform as well on new data.\n",
    "### \n",
    "After all the changes we get a final model:\n",
    "\n",
    "[Link to Final Model](Final_Model.ipynb)\n",
    "\n",
    "[Back to Table of Contents](../README.md)"
   ]
  }
 ],
 "metadata": {
  "kernelspec": {
   "display_name": "Python 3",
   "language": "python",
   "name": "python3"
  },
  "language_info": {
   "codemirror_mode": {
    "name": "ipython",
    "version": 3
   },
   "file_extension": ".py",
   "mimetype": "text/x-python",
   "name": "python",
   "nbconvert_exporter": "python",
   "pygments_lexer": "ipython3",
   "version": "3.8.5"
  }
 },
 "nbformat": 4,
 "nbformat_minor": 5
}
