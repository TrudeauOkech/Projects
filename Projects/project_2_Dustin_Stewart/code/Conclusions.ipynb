{
 "cells": [
  {
   "cell_type": "markdown",
   "id": "gorgeous-parallel",
   "metadata": {},
   "source": [
    "# Project Conclusions"
   ]
  },
  {
   "cell_type": "markdown",
   "id": "downtown-composite",
   "metadata": {},
   "source": [
    "### Key Findings"
   ]
  },
  {
   "cell_type": "markdown",
   "id": "macro-kansas",
   "metadata": {},
   "source": [
    "1. **Overall Quality, Overall Condition(log), Year Built, Lot Area(log), 1st Floor SF, and 2nd Floor SF** had the highest impact on our model. They all had an impact at least twice as high as the other variables. That's not to say that other variables didn't have an impact as they most likely helped ground our predictions and reduce error, especially variables like neighborhoods. \n",
    "\n",
    "2. Using the **logged value of sales price** is the best way to predict home prices in Ames.\n",
    "\n",
    "3. Our model uses **50 variables**, almost half of which were manufactured through one-hot encoding or by simplifying or combining categorical variables. This reflects that the best model for predicting data is not necessarily the one with the most information. This is due to variable overlap (collinearity) and overweighting. \n",
    "\n",
    "4. By using descriptive statistics we can determine that Ames was not particularly affected by the housing bubble burst in 2007 and inferential statistics tells us that the year a house was sold in this dataset does not really help us to predict housing prices.\n",
    "\n",
    "5. In many cities, neighborhoods have vastly different price levels. In Ames, they don't differ as much, but neighborhoods still did help us predict house prices a little bit better."
   ]
  },
  {
   "cell_type": "markdown",
   "id": "global-award",
   "metadata": {},
   "source": [
    "### Could We Use a Similar Model in the Real World?"
   ]
  },
  {
   "cell_type": "markdown",
   "id": "fiscal-whole",
   "metadata": {},
   "source": [
    "##### Real Estate Investment\n",
    "The model would work okay for real estate investments as in general we miss low so we're not going to overpay by using this model. If the price of a house on the market is below our predicted price, it is most likely a good investment, but we should incorporate other analysis as well. Our model is sometimes 100,000 dollars off. That's not a risk worth taking.\n",
    "\n",
    "##### Pricing a Home for Sale\n",
    "The only problem if you were to use this model to price a home for sale is that most likely the predicted price is too low and you could get a higher price. The advantage is though that you could price slightly higher and then move down over time if it doesn't sell. You have a good general estimate though to get started with.\n",
    "\n",
    "##### In Other Regions or Time Frames\n",
    "We should not use this model for other geographic areas or time frames unless significant changes are made. Ames and Iowa in general did not reflect the housing bubble bursting in 2007. We'd have to take this into account and probably run a model for a normal housing market if we planned to price houses after the housing market recovered in the 2010's. "
   ]
  },
  {
   "cell_type": "markdown",
   "id": "polished-neighborhood",
   "metadata": {},
   "source": [
    "[Return to Read Me](../README.md)"
   ]
  }
 ],
 "metadata": {
  "kernelspec": {
   "display_name": "Python 3",
   "language": "python",
   "name": "python3"
  },
  "language_info": {
   "codemirror_mode": {
    "name": "ipython",
    "version": 3
   },
   "file_extension": ".py",
   "mimetype": "text/x-python",
   "name": "python",
   "nbconvert_exporter": "python",
   "pygments_lexer": "ipython3",
   "version": "3.8.5"
  }
 },
 "nbformat": 4,
 "nbformat_minor": 5
}
