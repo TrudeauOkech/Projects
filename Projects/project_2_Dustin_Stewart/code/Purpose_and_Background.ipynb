{
 "cells": [
  {
   "cell_type": "markdown",
   "id": "attempted-apollo",
   "metadata": {},
   "source": [
    "# Purpose and Background"
   ]
  },
  {
   "cell_type": "markdown",
   "id": "green-orange",
   "metadata": {},
   "source": [
    "### Problem\n",
    "\n",
    "How can we make good real estate investments if we can’t accurately predict the selling price of a property?"
   ]
  },
  {
   "cell_type": "markdown",
   "id": "prospective-thong",
   "metadata": {},
   "source": [
    "### Objective\n",
    "Create a regression model that can accurately predict the selling price of a home."
   ]
  },
  {
   "cell_type": "markdown",
   "id": "outer-outreach",
   "metadata": {},
   "source": [
    "# \n",
    "## Background on the Data"
   ]
  },
  {
   "cell_type": "markdown",
   "id": "naked-passport",
   "metadata": {},
   "source": [
    "* The data represents the sales of over 2000 homes in Ames, Iowa from 2006-2010 amidst the great recession\n",
    "* Ames is home to Iowa State University, one of the oldest universities in the midwest\n",
    "* There are 81 columns of information for each house"
   ]
  },
  {
   "cell_type": "markdown",
   "id": "joint-phase",
   "metadata": {},
   "source": [
    "[Link to Data Dictionary](Data_Dictionary.ipynb)"
   ]
  },
  {
   "cell_type": "markdown",
   "id": "finnish-company",
   "metadata": {},
   "source": [
    "[Back to Table of Contents](../README.md)"
   ]
  }
 ],
 "metadata": {
  "kernelspec": {
   "display_name": "Python 3",
   "language": "python",
   "name": "python3"
  },
  "language_info": {
   "codemirror_mode": {
    "name": "ipython",
    "version": 3
   },
   "file_extension": ".py",
   "mimetype": "text/x-python",
   "name": "python",
   "nbconvert_exporter": "python",
   "pygments_lexer": "ipython3",
   "version": "3.8.5"
  }
 },
 "nbformat": 4,
 "nbformat_minor": 5
}
