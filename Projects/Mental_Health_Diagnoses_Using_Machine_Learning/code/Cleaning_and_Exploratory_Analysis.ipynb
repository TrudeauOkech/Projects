{
 "cells": [
  {
   "cell_type": "markdown",
   "id": "behavioral-christianity",
   "metadata": {},
   "source": [
    "# Exploring the Data"
   ]
  },
  {
   "cell_type": "markdown",
   "id": "advance-ranch",
   "metadata": {},
   "source": [
    "#### \n",
    "**The next step is to clean our language data from Reddit and look for insights that will help us understand the data and make better models.**\n",
    "#### "
   ]
  },
  {
   "cell_type": "markdown",
   "id": "cellular-budapest",
   "metadata": {},
   "source": [
    "These are the imports we will use in this section:"
   ]
  },
  {
   "cell_type": "code",
   "execution_count": 1,
   "id": "sapphire-samba",
   "metadata": {},
   "outputs": [],
   "source": [
    "import pandas as pd\n",
    "import numpy as np\n",
    "from nltk.tokenize import word_tokenize\n",
    "from nltk.stem import WordNetLemmatizer\n",
    "from nltk.corpus import stopwords\n",
    "from nltk.sentiment.vader import SentimentIntensityAnalyzer\n",
    "import re\n",
    "from sklearn.feature_extraction.text import CountVectorizer\n",
    "import contractions\n",
    "import seaborn as sns\n",
    "import matplotlib.pyplot as plt"
   ]
  },
  {
   "cell_type": "markdown",
   "id": "covered-chocolate",
   "metadata": {},
   "source": [
    "#  \n",
    "We can now import our csv file that contains the 5000 posts we pulled from the \"depression\" and \"bipolar\" subreddit pages and then combine them into one DataFrame:"
   ]
  },
  {
   "cell_type": "code",
   "execution_count": 2,
   "id": "sapphire-cookbook",
   "metadata": {},
   "outputs": [
    {
     "data": {
      "text/html": [
       "<div>\n",
       "<style scoped>\n",
       "    .dataframe tbody tr th:only-of-type {\n",
       "        vertical-align: middle;\n",
       "    }\n",
       "\n",
       "    .dataframe tbody tr th {\n",
       "        vertical-align: top;\n",
       "    }\n",
       "\n",
       "    .dataframe thead th {\n",
       "        text-align: right;\n",
       "    }\n",
       "</style>\n",
       "<table border=\"1\" class=\"dataframe\">\n",
       "  <thead>\n",
       "    <tr style=\"text-align: right;\">\n",
       "      <th></th>\n",
       "      <th>selftext</th>\n",
       "      <th>subreddit</th>\n",
       "      <th>title</th>\n",
       "    </tr>\n",
       "  </thead>\n",
       "  <tbody>\n",
       "    <tr>\n",
       "      <th>0</th>\n",
       "      <td>I am now homeless and my phone service will tu...</td>\n",
       "      <td>depression</td>\n",
       "      <td>I am seriously fucked</td>\n",
       "    </tr>\n",
       "    <tr>\n",
       "      <th>1</th>\n",
       "      <td>People always describe their depression as con...</td>\n",
       "      <td>depression</td>\n",
       "      <td>My brain feels clogged</td>\n",
       "    </tr>\n",
       "    <tr>\n",
       "      <th>2</th>\n",
       "      <td>I've been struggling really hard with this. Wh...</td>\n",
       "      <td>depression</td>\n",
       "      <td>I'm considering dropping out of college becaus...</td>\n",
       "    </tr>\n",
       "    <tr>\n",
       "      <th>3</th>\n",
       "      <td>So Its been 1 year I had my future secure and ...</td>\n",
       "      <td>depression</td>\n",
       "      <td>Do I have depression?</td>\n",
       "    </tr>\n",
       "    <tr>\n",
       "      <th>4</th>\n",
       "      <td>I'm 15 yrs old and I just need some help.\\n\\nT...</td>\n",
       "      <td>depression</td>\n",
       "      <td>I don't what to do</td>\n",
       "    </tr>\n",
       "    <tr>\n",
       "      <th>...</th>\n",
       "      <td>...</td>\n",
       "      <td>...</td>\n",
       "      <td>...</td>\n",
       "    </tr>\n",
       "    <tr>\n",
       "      <th>4995</th>\n",
       "      <td>I am 25, live at home, currently unemployed, h...</td>\n",
       "      <td>depression</td>\n",
       "      <td>My story is not special and I don't deserve sy...</td>\n",
       "    </tr>\n",
       "    <tr>\n",
       "      <th>4996</th>\n",
       "      <td>I can't remember a time where I was truly happ...</td>\n",
       "      <td>depression</td>\n",
       "      <td>Does anyone else feel like depression robbed y...</td>\n",
       "    </tr>\n",
       "    <tr>\n",
       "      <th>4997</th>\n",
       "      <td>2015 was a year of such clearly defined ‘highs...</td>\n",
       "      <td>depression</td>\n",
       "      <td>Why did life have to become like assembling IK...</td>\n",
       "    </tr>\n",
       "    <tr>\n",
       "      <th>4998</th>\n",
       "      <td>I'm not a doctor, but I've been to enough psyc...</td>\n",
       "      <td>depression</td>\n",
       "      <td>The definition of depression</td>\n",
       "    </tr>\n",
       "    <tr>\n",
       "      <th>4999</th>\n",
       "      <td>Hello, \\n\\nI would really appreciate some advi...</td>\n",
       "      <td>depression</td>\n",
       "      <td>What words should you say to someone who is de...</td>\n",
       "    </tr>\n",
       "  </tbody>\n",
       "</table>\n",
       "<p>5000 rows × 3 columns</p>\n",
       "</div>"
      ],
      "text/plain": [
       "                                               selftext   subreddit  \\\n",
       "0     I am now homeless and my phone service will tu...  depression   \n",
       "1     People always describe their depression as con...  depression   \n",
       "2     I've been struggling really hard with this. Wh...  depression   \n",
       "3     So Its been 1 year I had my future secure and ...  depression   \n",
       "4     I'm 15 yrs old and I just need some help.\\n\\nT...  depression   \n",
       "...                                                 ...         ...   \n",
       "4995  I am 25, live at home, currently unemployed, h...  depression   \n",
       "4996  I can't remember a time where I was truly happ...  depression   \n",
       "4997  2015 was a year of such clearly defined ‘highs...  depression   \n",
       "4998  I'm not a doctor, but I've been to enough psyc...  depression   \n",
       "4999  Hello, \\n\\nI would really appreciate some advi...  depression   \n",
       "\n",
       "                                                  title  \n",
       "0                                 I am seriously fucked  \n",
       "1                                My brain feels clogged  \n",
       "2     I'm considering dropping out of college becaus...  \n",
       "3                                 Do I have depression?  \n",
       "4                                    I don't what to do  \n",
       "...                                                 ...  \n",
       "4995  My story is not special and I don't deserve sy...  \n",
       "4996  Does anyone else feel like depression robbed y...  \n",
       "4997  Why did life have to become like assembling IK...  \n",
       "4998                       The definition of depression  \n",
       "4999  What words should you say to someone who is de...  \n",
       "\n",
       "[5000 rows x 3 columns]"
      ]
     },
     "execution_count": 2,
     "metadata": {},
     "output_type": "execute_result"
    }
   ],
   "source": [
    "depression = pd.read_csv('../data/depression.csv')\n",
    "depression"
   ]
  },
  {
   "cell_type": "code",
   "execution_count": 3,
   "id": "defensive-toner",
   "metadata": {},
   "outputs": [
    {
     "data": {
      "text/html": [
       "<div>\n",
       "<style scoped>\n",
       "    .dataframe tbody tr th:only-of-type {\n",
       "        vertical-align: middle;\n",
       "    }\n",
       "\n",
       "    .dataframe tbody tr th {\n",
       "        vertical-align: top;\n",
       "    }\n",
       "\n",
       "    .dataframe thead th {\n",
       "        text-align: right;\n",
       "    }\n",
       "</style>\n",
       "<table border=\"1\" class=\"dataframe\">\n",
       "  <thead>\n",
       "    <tr style=\"text-align: right;\">\n",
       "      <th></th>\n",
       "      <th>selftext</th>\n",
       "      <th>subreddit</th>\n",
       "      <th>title</th>\n",
       "    </tr>\n",
       "  </thead>\n",
       "  <tbody>\n",
       "    <tr>\n",
       "      <th>0</th>\n",
       "      <td>I also have fibromyalgia, and my acute pain ep...</td>\n",
       "      <td>bipolar</td>\n",
       "      <td>I didn’t let my back pain send me into a depre...</td>\n",
       "    </tr>\n",
       "    <tr>\n",
       "      <th>1</th>\n",
       "      <td>In case others don't put 2 and 2 together like...</td>\n",
       "      <td>bipolar</td>\n",
       "      <td>Seroquel as antihistamine. I should have known...</td>\n",
       "    </tr>\n",
       "    <tr>\n",
       "      <th>2</th>\n",
       "      <td>TLDR: newly diagnosed, wondering how to deal w...</td>\n",
       "      <td>bipolar</td>\n",
       "      <td>how do you deal with the grief and anger that ...</td>\n",
       "    </tr>\n",
       "    <tr>\n",
       "      <th>3</th>\n",
       "      <td>Hello, I wanted to share some symptoms I have ...</td>\n",
       "      <td>bipolar</td>\n",
       "      <td>Meds and fatigue</td>\n",
       "    </tr>\n",
       "    <tr>\n",
       "      <th>4</th>\n",
       "      <td>Hi y'all. I just wanted to share because I'm p...</td>\n",
       "      <td>bipolar</td>\n",
       "      <td>Annoyed that I'm probably falling up into a hy...</td>\n",
       "    </tr>\n",
       "    <tr>\n",
       "      <th>...</th>\n",
       "      <td>...</td>\n",
       "      <td>...</td>\n",
       "      <td>...</td>\n",
       "    </tr>\n",
       "    <tr>\n",
       "      <th>4995</th>\n",
       "      <td>I honestly love the flavour of them!\\n\\nI star...</td>\n",
       "      <td>bipolar</td>\n",
       "      <td>Energy Crisis is it worth it?</td>\n",
       "    </tr>\n",
       "    <tr>\n",
       "      <th>4996</th>\n",
       "      <td>Three days on the trot I've been unable to sle...</td>\n",
       "      <td>bipolar</td>\n",
       "      <td>Can feel myself going full manic</td>\n",
       "    </tr>\n",
       "    <tr>\n",
       "      <th>4997</th>\n",
       "      <td>Just wanted to say that I have been feeling go...</td>\n",
       "      <td>bipolar</td>\n",
       "      <td>I'm doing good :D.</td>\n",
       "    </tr>\n",
       "    <tr>\n",
       "      <th>4998</th>\n",
       "      <td>Hey guys. I just wanted to ask you if you've e...</td>\n",
       "      <td>bipolar</td>\n",
       "      <td>suicidal thoughts at night</td>\n",
       "    </tr>\n",
       "    <tr>\n",
       "      <th>4999</th>\n",
       "      <td>Hey, all!\\n\\nI posted a few days ago about how...</td>\n",
       "      <td>bipolar</td>\n",
       "      <td>Don't know what to do about my meds/treatment</td>\n",
       "    </tr>\n",
       "  </tbody>\n",
       "</table>\n",
       "<p>5000 rows × 3 columns</p>\n",
       "</div>"
      ],
      "text/plain": [
       "                                               selftext subreddit  \\\n",
       "0     I also have fibromyalgia, and my acute pain ep...   bipolar   \n",
       "1     In case others don't put 2 and 2 together like...   bipolar   \n",
       "2     TLDR: newly diagnosed, wondering how to deal w...   bipolar   \n",
       "3     Hello, I wanted to share some symptoms I have ...   bipolar   \n",
       "4     Hi y'all. I just wanted to share because I'm p...   bipolar   \n",
       "...                                                 ...       ...   \n",
       "4995  I honestly love the flavour of them!\\n\\nI star...   bipolar   \n",
       "4996  Three days on the trot I've been unable to sle...   bipolar   \n",
       "4997  Just wanted to say that I have been feeling go...   bipolar   \n",
       "4998  Hey guys. I just wanted to ask you if you've e...   bipolar   \n",
       "4999  Hey, all!\\n\\nI posted a few days ago about how...   bipolar   \n",
       "\n",
       "                                                  title  \n",
       "0     I didn’t let my back pain send me into a depre...  \n",
       "1     Seroquel as antihistamine. I should have known...  \n",
       "2     how do you deal with the grief and anger that ...  \n",
       "3                                      Meds and fatigue  \n",
       "4     Annoyed that I'm probably falling up into a hy...  \n",
       "...                                                 ...  \n",
       "4995                      Energy Crisis is it worth it?  \n",
       "4996                   Can feel myself going full manic  \n",
       "4997                                 I'm doing good :D.  \n",
       "4998                         suicidal thoughts at night  \n",
       "4999      Don't know what to do about my meds/treatment  \n",
       "\n",
       "[5000 rows x 3 columns]"
      ]
     },
     "execution_count": 3,
     "metadata": {},
     "output_type": "execute_result"
    }
   ],
   "source": [
    "bipolar = pd.read_csv('../data/bipolar.csv')\n",
    "bipolar"
   ]
  },
  {
   "cell_type": "code",
   "execution_count": 4,
   "id": "going-luxembourg",
   "metadata": {},
   "outputs": [],
   "source": [
    "df = depression.append(bipolar)"
   ]
  },
  {
   "cell_type": "markdown",
   "id": "informed-timing",
   "metadata": {},
   "source": [
    "# \n",
    "Now we have our data, but the index needs to be reset:"
   ]
  },
  {
   "cell_type": "code",
   "execution_count": 5,
   "id": "mobile-point",
   "metadata": {},
   "outputs": [],
   "source": [
    "df = df.reset_index(drop = True)"
   ]
  },
  {
   "cell_type": "code",
   "execution_count": 6,
   "id": "heard-replacement",
   "metadata": {},
   "outputs": [
    {
     "data": {
      "text/html": [
       "<div>\n",
       "<style scoped>\n",
       "    .dataframe tbody tr th:only-of-type {\n",
       "        vertical-align: middle;\n",
       "    }\n",
       "\n",
       "    .dataframe tbody tr th {\n",
       "        vertical-align: top;\n",
       "    }\n",
       "\n",
       "    .dataframe thead th {\n",
       "        text-align: right;\n",
       "    }\n",
       "</style>\n",
       "<table border=\"1\" class=\"dataframe\">\n",
       "  <thead>\n",
       "    <tr style=\"text-align: right;\">\n",
       "      <th></th>\n",
       "      <th>selftext</th>\n",
       "      <th>subreddit</th>\n",
       "      <th>title</th>\n",
       "    </tr>\n",
       "  </thead>\n",
       "  <tbody>\n",
       "    <tr>\n",
       "      <th>9998</th>\n",
       "      <td>Hey guys. I just wanted to ask you if you've e...</td>\n",
       "      <td>bipolar</td>\n",
       "      <td>suicidal thoughts at night</td>\n",
       "    </tr>\n",
       "    <tr>\n",
       "      <th>9999</th>\n",
       "      <td>Hey, all!\\n\\nI posted a few days ago about how...</td>\n",
       "      <td>bipolar</td>\n",
       "      <td>Don't know what to do about my meds/treatment</td>\n",
       "    </tr>\n",
       "  </tbody>\n",
       "</table>\n",
       "</div>"
      ],
      "text/plain": [
       "                                               selftext subreddit  \\\n",
       "9998  Hey guys. I just wanted to ask you if you've e...   bipolar   \n",
       "9999  Hey, all!\\n\\nI posted a few days ago about how...   bipolar   \n",
       "\n",
       "                                              title  \n",
       "9998                     suicidal thoughts at night  \n",
       "9999  Don't know what to do about my meds/treatment  "
      ]
     },
     "execution_count": 6,
     "metadata": {},
     "output_type": "execute_result"
    }
   ],
   "source": [
    "df.tail(2)"
   ]
  },
  {
   "cell_type": "markdown",
   "id": "broadband-creativity",
   "metadata": {},
   "source": [
    "# \n",
    "Using the contractions library we imported, we expand contractions and put the resulting strings in a new column called 'expanded':"
   ]
  },
  {
   "cell_type": "code",
   "execution_count": 7,
   "id": "collective-monkey",
   "metadata": {},
   "outputs": [],
   "source": [
    "df['selftext'] = df['selftext'].apply(lambda x: contractions.fix(x))"
   ]
  },
  {
   "cell_type": "code",
   "execution_count": 8,
   "id": "anonymous-pledge",
   "metadata": {},
   "outputs": [
    {
     "data": {
      "text/html": [
       "<div>\n",
       "<style scoped>\n",
       "    .dataframe tbody tr th:only-of-type {\n",
       "        vertical-align: middle;\n",
       "    }\n",
       "\n",
       "    .dataframe tbody tr th {\n",
       "        vertical-align: top;\n",
       "    }\n",
       "\n",
       "    .dataframe thead th {\n",
       "        text-align: right;\n",
       "    }\n",
       "</style>\n",
       "<table border=\"1\" class=\"dataframe\">\n",
       "  <thead>\n",
       "    <tr style=\"text-align: right;\">\n",
       "      <th></th>\n",
       "      <th>selftext</th>\n",
       "      <th>subreddit</th>\n",
       "      <th>title</th>\n",
       "    </tr>\n",
       "  </thead>\n",
       "  <tbody>\n",
       "    <tr>\n",
       "      <th>0</th>\n",
       "      <td>I am now homeless and my phone service will tu...</td>\n",
       "      <td>depression</td>\n",
       "      <td>I am seriously fucked</td>\n",
       "    </tr>\n",
       "    <tr>\n",
       "      <th>1</th>\n",
       "      <td>People always describe their depression as con...</td>\n",
       "      <td>depression</td>\n",
       "      <td>My brain feels clogged</td>\n",
       "    </tr>\n",
       "  </tbody>\n",
       "</table>\n",
       "</div>"
      ],
      "text/plain": [
       "                                            selftext   subreddit  \\\n",
       "0  I am now homeless and my phone service will tu...  depression   \n",
       "1  People always describe their depression as con...  depression   \n",
       "\n",
       "                    title  \n",
       "0   I am seriously fucked  \n",
       "1  My brain feels clogged  "
      ]
     },
     "execution_count": 8,
     "metadata": {},
     "output_type": "execute_result"
    }
   ],
   "source": [
    "df.head(2)"
   ]
  },
  {
   "cell_type": "markdown",
   "id": "atlantic-journal",
   "metadata": {},
   "source": [
    "# \n",
    "Now we create a column with the posts broken down into a list of words:"
   ]
  },
  {
   "cell_type": "code",
   "execution_count": 9,
   "id": "descending-beijing",
   "metadata": {},
   "outputs": [],
   "source": [
    "df['tokenized'] = df['selftext'].apply(lambda x: word_tokenize(x.lower()))"
   ]
  },
  {
   "cell_type": "code",
   "execution_count": 10,
   "id": "turned-canadian",
   "metadata": {},
   "outputs": [
    {
     "data": {
      "text/html": [
       "<div>\n",
       "<style scoped>\n",
       "    .dataframe tbody tr th:only-of-type {\n",
       "        vertical-align: middle;\n",
       "    }\n",
       "\n",
       "    .dataframe tbody tr th {\n",
       "        vertical-align: top;\n",
       "    }\n",
       "\n",
       "    .dataframe thead th {\n",
       "        text-align: right;\n",
       "    }\n",
       "</style>\n",
       "<table border=\"1\" class=\"dataframe\">\n",
       "  <thead>\n",
       "    <tr style=\"text-align: right;\">\n",
       "      <th></th>\n",
       "      <th>selftext</th>\n",
       "      <th>subreddit</th>\n",
       "      <th>title</th>\n",
       "      <th>tokenized</th>\n",
       "    </tr>\n",
       "  </thead>\n",
       "  <tbody>\n",
       "    <tr>\n",
       "      <th>0</th>\n",
       "      <td>I am now homeless and my phone service will tu...</td>\n",
       "      <td>depression</td>\n",
       "      <td>I am seriously fucked</td>\n",
       "      <td>[i, am, now, homeless, and, my, phone, service...</td>\n",
       "    </tr>\n",
       "    <tr>\n",
       "      <th>1</th>\n",
       "      <td>People always describe their depression as con...</td>\n",
       "      <td>depression</td>\n",
       "      <td>My brain feels clogged</td>\n",
       "      <td>[people, always, describe, their, depression, ...</td>\n",
       "    </tr>\n",
       "  </tbody>\n",
       "</table>\n",
       "</div>"
      ],
      "text/plain": [
       "                                            selftext   subreddit  \\\n",
       "0  I am now homeless and my phone service will tu...  depression   \n",
       "1  People always describe their depression as con...  depression   \n",
       "\n",
       "                    title                                          tokenized  \n",
       "0   I am seriously fucked  [i, am, now, homeless, and, my, phone, service...  \n",
       "1  My brain feels clogged  [people, always, describe, their, depression, ...  "
      ]
     },
     "execution_count": 10,
     "metadata": {},
     "output_type": "execute_result"
    }
   ],
   "source": [
    "df.head(2)"
   ]
  },
  {
   "cell_type": "markdown",
   "id": "australian-folder",
   "metadata": {},
   "source": [
    "# \n",
    "Let's lemmatize our tokens as well. This returns some words to a more base form:"
   ]
  },
  {
   "cell_type": "code",
   "execution_count": 11,
   "id": "color-adrian",
   "metadata": {},
   "outputs": [],
   "source": [
    "lemmatizer = WordNetLemmatizer()"
   ]
  },
  {
   "cell_type": "code",
   "execution_count": 12,
   "id": "noble-venice",
   "metadata": {},
   "outputs": [],
   "source": [
    "df['tokenized'] = df['tokenized'].apply(lambda x: [lemmatizer.lemmatize(i) for i in x])"
   ]
  },
  {
   "cell_type": "code",
   "execution_count": 13,
   "id": "difficult-emphasis",
   "metadata": {},
   "outputs": [
    {
     "data": {
      "text/html": [
       "<div>\n",
       "<style scoped>\n",
       "    .dataframe tbody tr th:only-of-type {\n",
       "        vertical-align: middle;\n",
       "    }\n",
       "\n",
       "    .dataframe tbody tr th {\n",
       "        vertical-align: top;\n",
       "    }\n",
       "\n",
       "    .dataframe thead th {\n",
       "        text-align: right;\n",
       "    }\n",
       "</style>\n",
       "<table border=\"1\" class=\"dataframe\">\n",
       "  <thead>\n",
       "    <tr style=\"text-align: right;\">\n",
       "      <th></th>\n",
       "      <th>selftext</th>\n",
       "      <th>subreddit</th>\n",
       "      <th>title</th>\n",
       "      <th>tokenized</th>\n",
       "    </tr>\n",
       "  </thead>\n",
       "  <tbody>\n",
       "    <tr>\n",
       "      <th>9998</th>\n",
       "      <td>Hey guys. I just wanted to ask you if you have...</td>\n",
       "      <td>bipolar</td>\n",
       "      <td>suicidal thoughts at night</td>\n",
       "      <td>[hey, guy, ., i, just, wanted, to, ask, you, i...</td>\n",
       "    </tr>\n",
       "    <tr>\n",
       "      <th>9999</th>\n",
       "      <td>Hey, all!\\n\\nI posted a few days ago about how...</td>\n",
       "      <td>bipolar</td>\n",
       "      <td>Don't know what to do about my meds/treatment</td>\n",
       "      <td>[hey, ,, all, !, i, posted, a, few, day, ago, ...</td>\n",
       "    </tr>\n",
       "  </tbody>\n",
       "</table>\n",
       "</div>"
      ],
      "text/plain": [
       "                                               selftext subreddit  \\\n",
       "9998  Hey guys. I just wanted to ask you if you have...   bipolar   \n",
       "9999  Hey, all!\\n\\nI posted a few days ago about how...   bipolar   \n",
       "\n",
       "                                              title  \\\n",
       "9998                     suicidal thoughts at night   \n",
       "9999  Don't know what to do about my meds/treatment   \n",
       "\n",
       "                                              tokenized  \n",
       "9998  [hey, guy, ., i, just, wanted, to, ask, you, i...  \n",
       "9999  [hey, ,, all, !, i, posted, a, few, day, ago, ...  "
      ]
     },
     "execution_count": 13,
     "metadata": {},
     "output_type": "execute_result"
    }
   ],
   "source": [
    "df.tail(2)"
   ]
  },
  {
   "cell_type": "markdown",
   "id": "german-south",
   "metadata": {},
   "source": [
    "# \n",
    "We want to get rid of punctuation as well:"
   ]
  },
  {
   "cell_type": "code",
   "execution_count": 14,
   "id": "commercial-output",
   "metadata": {},
   "outputs": [],
   "source": [
    "import string"
   ]
  },
  {
   "cell_type": "code",
   "execution_count": 15,
   "id": "breathing-buffalo",
   "metadata": {},
   "outputs": [],
   "source": [
    "df['tokenized'] = df['tokenized'].apply(lambda x: [i.strip(string.punctuation) for i in x])"
   ]
  },
  {
   "cell_type": "code",
   "execution_count": 16,
   "id": "viral-premiere",
   "metadata": {},
   "outputs": [
    {
     "data": {
      "text/html": [
       "<div>\n",
       "<style scoped>\n",
       "    .dataframe tbody tr th:only-of-type {\n",
       "        vertical-align: middle;\n",
       "    }\n",
       "\n",
       "    .dataframe tbody tr th {\n",
       "        vertical-align: top;\n",
       "    }\n",
       "\n",
       "    .dataframe thead th {\n",
       "        text-align: right;\n",
       "    }\n",
       "</style>\n",
       "<table border=\"1\" class=\"dataframe\">\n",
       "  <thead>\n",
       "    <tr style=\"text-align: right;\">\n",
       "      <th></th>\n",
       "      <th>selftext</th>\n",
       "      <th>subreddit</th>\n",
       "      <th>title</th>\n",
       "      <th>tokenized</th>\n",
       "    </tr>\n",
       "  </thead>\n",
       "  <tbody>\n",
       "    <tr>\n",
       "      <th>0</th>\n",
       "      <td>I am now homeless and my phone service will tu...</td>\n",
       "      <td>depression</td>\n",
       "      <td>I am seriously fucked</td>\n",
       "      <td>[i, am, now, homeless, and, my, phone, service...</td>\n",
       "    </tr>\n",
       "    <tr>\n",
       "      <th>1</th>\n",
       "      <td>People always describe their depression as con...</td>\n",
       "      <td>depression</td>\n",
       "      <td>My brain feels clogged</td>\n",
       "      <td>[people, always, describe, their, depression, ...</td>\n",
       "    </tr>\n",
       "  </tbody>\n",
       "</table>\n",
       "</div>"
      ],
      "text/plain": [
       "                                            selftext   subreddit  \\\n",
       "0  I am now homeless and my phone service will tu...  depression   \n",
       "1  People always describe their depression as con...  depression   \n",
       "\n",
       "                    title                                          tokenized  \n",
       "0   I am seriously fucked  [i, am, now, homeless, and, my, phone, service...  \n",
       "1  My brain feels clogged  [people, always, describe, their, depression, ...  "
      ]
     },
     "execution_count": 16,
     "metadata": {},
     "output_type": "execute_result"
    }
   ],
   "source": [
    "df.head(2)"
   ]
  },
  {
   "cell_type": "markdown",
   "id": "painted-loading",
   "metadata": {},
   "source": [
    "# \n",
    "This step removes empty strings left from removed punctuation:"
   ]
  },
  {
   "cell_type": "code",
   "execution_count": 17,
   "id": "enclosed-equipment",
   "metadata": {},
   "outputs": [],
   "source": [
    "df['tokenized'] = df['tokenized'].apply(lambda x:[i for i in x if i])"
   ]
  },
  {
   "cell_type": "code",
   "execution_count": 18,
   "id": "tropical-procurement",
   "metadata": {},
   "outputs": [
    {
     "data": {
      "text/html": [
       "<div>\n",
       "<style scoped>\n",
       "    .dataframe tbody tr th:only-of-type {\n",
       "        vertical-align: middle;\n",
       "    }\n",
       "\n",
       "    .dataframe tbody tr th {\n",
       "        vertical-align: top;\n",
       "    }\n",
       "\n",
       "    .dataframe thead th {\n",
       "        text-align: right;\n",
       "    }\n",
       "</style>\n",
       "<table border=\"1\" class=\"dataframe\">\n",
       "  <thead>\n",
       "    <tr style=\"text-align: right;\">\n",
       "      <th></th>\n",
       "      <th>selftext</th>\n",
       "      <th>subreddit</th>\n",
       "      <th>title</th>\n",
       "      <th>tokenized</th>\n",
       "    </tr>\n",
       "  </thead>\n",
       "  <tbody>\n",
       "    <tr>\n",
       "      <th>9998</th>\n",
       "      <td>Hey guys. I just wanted to ask you if you have...</td>\n",
       "      <td>bipolar</td>\n",
       "      <td>suicidal thoughts at night</td>\n",
       "      <td>[hey, guy, i, just, wanted, to, ask, you, if, ...</td>\n",
       "    </tr>\n",
       "    <tr>\n",
       "      <th>9999</th>\n",
       "      <td>Hey, all!\\n\\nI posted a few days ago about how...</td>\n",
       "      <td>bipolar</td>\n",
       "      <td>Don't know what to do about my meds/treatment</td>\n",
       "      <td>[hey, all, i, posted, a, few, day, ago, about,...</td>\n",
       "    </tr>\n",
       "  </tbody>\n",
       "</table>\n",
       "</div>"
      ],
      "text/plain": [
       "                                               selftext subreddit  \\\n",
       "9998  Hey guys. I just wanted to ask you if you have...   bipolar   \n",
       "9999  Hey, all!\\n\\nI posted a few days ago about how...   bipolar   \n",
       "\n",
       "                                              title  \\\n",
       "9998                     suicidal thoughts at night   \n",
       "9999  Don't know what to do about my meds/treatment   \n",
       "\n",
       "                                              tokenized  \n",
       "9998  [hey, guy, i, just, wanted, to, ask, you, if, ...  \n",
       "9999  [hey, all, i, posted, a, few, day, ago, about,...  "
      ]
     },
     "execution_count": 18,
     "metadata": {},
     "output_type": "execute_result"
    }
   ],
   "source": [
    "df.tail(2)"
   ]
  },
  {
   "cell_type": "markdown",
   "id": "injured-packet",
   "metadata": {},
   "source": [
    "# \n",
    "We're only interested in the content of the posts so we drop the title column:"
   ]
  },
  {
   "cell_type": "code",
   "execution_count": 19,
   "id": "differential-astronomy",
   "metadata": {},
   "outputs": [],
   "source": [
    "df.drop(columns = ['title'], inplace = True)"
   ]
  },
  {
   "cell_type": "code",
   "execution_count": 20,
   "id": "sensitive-deviation",
   "metadata": {},
   "outputs": [
    {
     "data": {
      "text/html": [
       "<div>\n",
       "<style scoped>\n",
       "    .dataframe tbody tr th:only-of-type {\n",
       "        vertical-align: middle;\n",
       "    }\n",
       "\n",
       "    .dataframe tbody tr th {\n",
       "        vertical-align: top;\n",
       "    }\n",
       "\n",
       "    .dataframe thead th {\n",
       "        text-align: right;\n",
       "    }\n",
       "</style>\n",
       "<table border=\"1\" class=\"dataframe\">\n",
       "  <thead>\n",
       "    <tr style=\"text-align: right;\">\n",
       "      <th></th>\n",
       "      <th>selftext</th>\n",
       "      <th>subreddit</th>\n",
       "      <th>tokenized</th>\n",
       "    </tr>\n",
       "  </thead>\n",
       "  <tbody>\n",
       "    <tr>\n",
       "      <th>0</th>\n",
       "      <td>I am now homeless and my phone service will tu...</td>\n",
       "      <td>depression</td>\n",
       "      <td>[i, am, now, homeless, and, my, phone, service...</td>\n",
       "    </tr>\n",
       "    <tr>\n",
       "      <th>1</th>\n",
       "      <td>People always describe their depression as con...</td>\n",
       "      <td>depression</td>\n",
       "      <td>[people, always, describe, their, depression, ...</td>\n",
       "    </tr>\n",
       "  </tbody>\n",
       "</table>\n",
       "</div>"
      ],
      "text/plain": [
       "                                            selftext   subreddit  \\\n",
       "0  I am now homeless and my phone service will tu...  depression   \n",
       "1  People always describe their depression as con...  depression   \n",
       "\n",
       "                                           tokenized  \n",
       "0  [i, am, now, homeless, and, my, phone, service...  \n",
       "1  [people, always, describe, their, depression, ...  "
      ]
     },
     "execution_count": 20,
     "metadata": {},
     "output_type": "execute_result"
    }
   ],
   "source": [
    "df.head(2)"
   ]
  },
  {
   "cell_type": "markdown",
   "id": "willing-community",
   "metadata": {},
   "source": [
    "# \n",
    "Let's also create a column for the newly formatted words combined into single strings:"
   ]
  },
  {
   "cell_type": "code",
   "execution_count": 21,
   "id": "textile-malawi",
   "metadata": {},
   "outputs": [],
   "source": [
    "df['sentences'] = df['tokenized'].apply(lambda x: ' '.join(x))"
   ]
  },
  {
   "cell_type": "code",
   "execution_count": 22,
   "id": "whole-request",
   "metadata": {},
   "outputs": [
    {
     "data": {
      "text/html": [
       "<div>\n",
       "<style scoped>\n",
       "    .dataframe tbody tr th:only-of-type {\n",
       "        vertical-align: middle;\n",
       "    }\n",
       "\n",
       "    .dataframe tbody tr th {\n",
       "        vertical-align: top;\n",
       "    }\n",
       "\n",
       "    .dataframe thead th {\n",
       "        text-align: right;\n",
       "    }\n",
       "</style>\n",
       "<table border=\"1\" class=\"dataframe\">\n",
       "  <thead>\n",
       "    <tr style=\"text-align: right;\">\n",
       "      <th></th>\n",
       "      <th>selftext</th>\n",
       "      <th>subreddit</th>\n",
       "      <th>tokenized</th>\n",
       "      <th>sentences</th>\n",
       "    </tr>\n",
       "  </thead>\n",
       "  <tbody>\n",
       "    <tr>\n",
       "      <th>0</th>\n",
       "      <td>I am now homeless and my phone service will tu...</td>\n",
       "      <td>depression</td>\n",
       "      <td>[i, am, now, homeless, and, my, phone, service...</td>\n",
       "      <td>i am now homeless and my phone service will tu...</td>\n",
       "    </tr>\n",
       "    <tr>\n",
       "      <th>1</th>\n",
       "      <td>People always describe their depression as con...</td>\n",
       "      <td>depression</td>\n",
       "      <td>[people, always, describe, their, depression, ...</td>\n",
       "      <td>people always describe their depression a cons...</td>\n",
       "    </tr>\n",
       "  </tbody>\n",
       "</table>\n",
       "</div>"
      ],
      "text/plain": [
       "                                            selftext   subreddit  \\\n",
       "0  I am now homeless and my phone service will tu...  depression   \n",
       "1  People always describe their depression as con...  depression   \n",
       "\n",
       "                                           tokenized  \\\n",
       "0  [i, am, now, homeless, and, my, phone, service...   \n",
       "1  [people, always, describe, their, depression, ...   \n",
       "\n",
       "                                           sentences  \n",
       "0  i am now homeless and my phone service will tu...  \n",
       "1  people always describe their depression a cons...  "
      ]
     },
     "execution_count": 22,
     "metadata": {},
     "output_type": "execute_result"
    }
   ],
   "source": [
    "df.head(2)"
   ]
  },
  {
   "cell_type": "markdown",
   "id": "secret-somewhere",
   "metadata": {},
   "source": [
    "# \n",
    "It might be interesting to see how word count correlates with our other data so let's create a word count column using the len() function:"
   ]
  },
  {
   "cell_type": "code",
   "execution_count": 23,
   "id": "fitted-twenty",
   "metadata": {},
   "outputs": [],
   "source": [
    "df['word_count'] = df['tokenized'].apply(lambda x: len(x))"
   ]
  },
  {
   "cell_type": "code",
   "execution_count": 24,
   "id": "considered-correspondence",
   "metadata": {},
   "outputs": [
    {
     "data": {
      "text/html": [
       "<div>\n",
       "<style scoped>\n",
       "    .dataframe tbody tr th:only-of-type {\n",
       "        vertical-align: middle;\n",
       "    }\n",
       "\n",
       "    .dataframe tbody tr th {\n",
       "        vertical-align: top;\n",
       "    }\n",
       "\n",
       "    .dataframe thead th {\n",
       "        text-align: right;\n",
       "    }\n",
       "</style>\n",
       "<table border=\"1\" class=\"dataframe\">\n",
       "  <thead>\n",
       "    <tr style=\"text-align: right;\">\n",
       "      <th></th>\n",
       "      <th>selftext</th>\n",
       "      <th>subreddit</th>\n",
       "      <th>tokenized</th>\n",
       "      <th>sentences</th>\n",
       "      <th>word_count</th>\n",
       "    </tr>\n",
       "  </thead>\n",
       "  <tbody>\n",
       "    <tr>\n",
       "      <th>0</th>\n",
       "      <td>I am now homeless and my phone service will tu...</td>\n",
       "      <td>depression</td>\n",
       "      <td>[i, am, now, homeless, and, my, phone, service...</td>\n",
       "      <td>i am now homeless and my phone service will tu...</td>\n",
       "      <td>234</td>\n",
       "    </tr>\n",
       "    <tr>\n",
       "      <th>1</th>\n",
       "      <td>People always describe their depression as con...</td>\n",
       "      <td>depression</td>\n",
       "      <td>[people, always, describe, their, depression, ...</td>\n",
       "      <td>people always describe their depression a cons...</td>\n",
       "      <td>155</td>\n",
       "    </tr>\n",
       "  </tbody>\n",
       "</table>\n",
       "</div>"
      ],
      "text/plain": [
       "                                            selftext   subreddit  \\\n",
       "0  I am now homeless and my phone service will tu...  depression   \n",
       "1  People always describe their depression as con...  depression   \n",
       "\n",
       "                                           tokenized  \\\n",
       "0  [i, am, now, homeless, and, my, phone, service...   \n",
       "1  [people, always, describe, their, depression, ...   \n",
       "\n",
       "                                           sentences  word_count  \n",
       "0  i am now homeless and my phone service will tu...         234  \n",
       "1  people always describe their depression a cons...         155  "
      ]
     },
     "execution_count": 24,
     "metadata": {},
     "output_type": "execute_result"
    }
   ],
   "source": [
    "df.head(2)"
   ]
  },
  {
   "cell_type": "markdown",
   "id": "characteristic-smile",
   "metadata": {},
   "source": [
    "# \n",
    "Lastly, we will binarize the 'subreddit' column (this will be our dependent variable in our model):"
   ]
  },
  {
   "cell_type": "code",
   "execution_count": 25,
   "id": "composite-faith",
   "metadata": {},
   "outputs": [],
   "source": [
    "df['subreddit'] = df['subreddit'].apply(lambda x: 1 if x == 'bipolar' else 0)"
   ]
  },
  {
   "cell_type": "code",
   "execution_count": 26,
   "id": "separate-peoples",
   "metadata": {},
   "outputs": [
    {
     "data": {
      "text/html": [
       "<div>\n",
       "<style scoped>\n",
       "    .dataframe tbody tr th:only-of-type {\n",
       "        vertical-align: middle;\n",
       "    }\n",
       "\n",
       "    .dataframe tbody tr th {\n",
       "        vertical-align: top;\n",
       "    }\n",
       "\n",
       "    .dataframe thead th {\n",
       "        text-align: right;\n",
       "    }\n",
       "</style>\n",
       "<table border=\"1\" class=\"dataframe\">\n",
       "  <thead>\n",
       "    <tr style=\"text-align: right;\">\n",
       "      <th></th>\n",
       "      <th>selftext</th>\n",
       "      <th>subreddit</th>\n",
       "      <th>tokenized</th>\n",
       "      <th>sentences</th>\n",
       "      <th>word_count</th>\n",
       "    </tr>\n",
       "  </thead>\n",
       "  <tbody>\n",
       "    <tr>\n",
       "      <th>0</th>\n",
       "      <td>I am now homeless and my phone service will tu...</td>\n",
       "      <td>0</td>\n",
       "      <td>[i, am, now, homeless, and, my, phone, service...</td>\n",
       "      <td>i am now homeless and my phone service will tu...</td>\n",
       "      <td>234</td>\n",
       "    </tr>\n",
       "    <tr>\n",
       "      <th>1</th>\n",
       "      <td>People always describe their depression as con...</td>\n",
       "      <td>0</td>\n",
       "      <td>[people, always, describe, their, depression, ...</td>\n",
       "      <td>people always describe their depression a cons...</td>\n",
       "      <td>155</td>\n",
       "    </tr>\n",
       "    <tr>\n",
       "      <th>2</th>\n",
       "      <td>I have been struggling really hard with this. ...</td>\n",
       "      <td>0</td>\n",
       "      <td>[i, have, been, struggling, really, hard, with...</td>\n",
       "      <td>i have been struggling really hard with this w...</td>\n",
       "      <td>394</td>\n",
       "    </tr>\n",
       "    <tr>\n",
       "      <th>3</th>\n",
       "      <td>So Its been 1 year I had my future secure and ...</td>\n",
       "      <td>0</td>\n",
       "      <td>[so, it, been, 1, year, i, had, my, future, se...</td>\n",
       "      <td>so it been 1 year i had my future secure and w...</td>\n",
       "      <td>105</td>\n",
       "    </tr>\n",
       "    <tr>\n",
       "      <th>4</th>\n",
       "      <td>I am 15 yrs old and I just need some help.\\n\\n...</td>\n",
       "      <td>0</td>\n",
       "      <td>[i, am, 15, yr, old, and, i, just, need, some,...</td>\n",
       "      <td>i am 15 yr old and i just need some help thing...</td>\n",
       "      <td>154</td>\n",
       "    </tr>\n",
       "  </tbody>\n",
       "</table>\n",
       "</div>"
      ],
      "text/plain": [
       "                                            selftext  subreddit  \\\n",
       "0  I am now homeless and my phone service will tu...          0   \n",
       "1  People always describe their depression as con...          0   \n",
       "2  I have been struggling really hard with this. ...          0   \n",
       "3  So Its been 1 year I had my future secure and ...          0   \n",
       "4  I am 15 yrs old and I just need some help.\\n\\n...          0   \n",
       "\n",
       "                                           tokenized  \\\n",
       "0  [i, am, now, homeless, and, my, phone, service...   \n",
       "1  [people, always, describe, their, depression, ...   \n",
       "2  [i, have, been, struggling, really, hard, with...   \n",
       "3  [so, it, been, 1, year, i, had, my, future, se...   \n",
       "4  [i, am, 15, yr, old, and, i, just, need, some,...   \n",
       "\n",
       "                                           sentences  word_count  \n",
       "0  i am now homeless and my phone service will tu...         234  \n",
       "1  people always describe their depression a cons...         155  \n",
       "2  i have been struggling really hard with this w...         394  \n",
       "3  so it been 1 year i had my future secure and w...         105  \n",
       "4  i am 15 yr old and i just need some help thing...         154  "
      ]
     },
     "execution_count": 26,
     "metadata": {},
     "output_type": "execute_result"
    }
   ],
   "source": [
    "df.head()"
   ]
  },
  {
   "cell_type": "code",
   "execution_count": 27,
   "id": "subsequent-winning",
   "metadata": {},
   "outputs": [],
   "source": [
    "df['tokenized'] = df['tokenized'].apply(lambda x: [i for i in x if i not in stopwords.words('english')])"
   ]
  },
  {
   "cell_type": "code",
   "execution_count": 28,
   "id": "british-sunday",
   "metadata": {},
   "outputs": [
    {
     "data": {
      "text/html": [
       "<div>\n",
       "<style scoped>\n",
       "    .dataframe tbody tr th:only-of-type {\n",
       "        vertical-align: middle;\n",
       "    }\n",
       "\n",
       "    .dataframe tbody tr th {\n",
       "        vertical-align: top;\n",
       "    }\n",
       "\n",
       "    .dataframe thead th {\n",
       "        text-align: right;\n",
       "    }\n",
       "</style>\n",
       "<table border=\"1\" class=\"dataframe\">\n",
       "  <thead>\n",
       "    <tr style=\"text-align: right;\">\n",
       "      <th></th>\n",
       "      <th>selftext</th>\n",
       "      <th>subreddit</th>\n",
       "      <th>tokenized</th>\n",
       "      <th>sentences</th>\n",
       "      <th>word_count</th>\n",
       "    </tr>\n",
       "  </thead>\n",
       "  <tbody>\n",
       "    <tr>\n",
       "      <th>0</th>\n",
       "      <td>I am now homeless and my phone service will tu...</td>\n",
       "      <td>0</td>\n",
       "      <td>[homeless, phone, service, turn, really, soon,...</td>\n",
       "      <td>i am now homeless and my phone service will tu...</td>\n",
       "      <td>234</td>\n",
       "    </tr>\n",
       "    <tr>\n",
       "      <th>1</th>\n",
       "      <td>People always describe their depression as con...</td>\n",
       "      <td>0</td>\n",
       "      <td>[people, always, describe, depression, constan...</td>\n",
       "      <td>people always describe their depression a cons...</td>\n",
       "      <td>155</td>\n",
       "    </tr>\n",
       "    <tr>\n",
       "      <th>2</th>\n",
       "      <td>I have been struggling really hard with this. ...</td>\n",
       "      <td>0</td>\n",
       "      <td>[struggling, really, hard, graduated, high, sc...</td>\n",
       "      <td>i have been struggling really hard with this w...</td>\n",
       "      <td>394</td>\n",
       "    </tr>\n",
       "    <tr>\n",
       "      <th>3</th>\n",
       "      <td>So Its been 1 year I had my future secure and ...</td>\n",
       "      <td>0</td>\n",
       "      <td>[1, year, future, secure, well, wa, going, goo...</td>\n",
       "      <td>so it been 1 year i had my future secure and w...</td>\n",
       "      <td>105</td>\n",
       "    </tr>\n",
       "    <tr>\n",
       "      <th>4</th>\n",
       "      <td>I am 15 yrs old and I just need some help.\\n\\n...</td>\n",
       "      <td>0</td>\n",
       "      <td>[15, yr, old, need, help, thing, pretty, shit,...</td>\n",
       "      <td>i am 15 yr old and i just need some help thing...</td>\n",
       "      <td>154</td>\n",
       "    </tr>\n",
       "    <tr>\n",
       "      <th>...</th>\n",
       "      <td>...</td>\n",
       "      <td>...</td>\n",
       "      <td>...</td>\n",
       "      <td>...</td>\n",
       "      <td>...</td>\n",
       "    </tr>\n",
       "    <tr>\n",
       "      <th>9995</th>\n",
       "      <td>I honestly love the flavour of them!\\n\\nI star...</td>\n",
       "      <td>1</td>\n",
       "      <td>[honestly, love, flavour, started, redbull, re...</td>\n",
       "      <td>i honestly love the flavour of them i started ...</td>\n",
       "      <td>130</td>\n",
       "    </tr>\n",
       "    <tr>\n",
       "      <th>9996</th>\n",
       "      <td>Three days on the trot I have been unable to s...</td>\n",
       "      <td>1</td>\n",
       "      <td>[three, day, trot, unable, sleep, eat, getting...</td>\n",
       "      <td>three day on the trot i have been unable to sl...</td>\n",
       "      <td>132</td>\n",
       "    </tr>\n",
       "    <tr>\n",
       "      <th>9997</th>\n",
       "      <td>Just wanted to say that I have been feeling go...</td>\n",
       "      <td>1</td>\n",
       "      <td>[wanted, say, feeling, good, last, couple, wee...</td>\n",
       "      <td>just wanted to say that i have been feeling go...</td>\n",
       "      <td>107</td>\n",
       "    </tr>\n",
       "    <tr>\n",
       "      <th>9998</th>\n",
       "      <td>Hey guys. I just wanted to ask you if you have...</td>\n",
       "      <td>1</td>\n",
       "      <td>[hey, guy, wanted, ask, ever, problem, done, d...</td>\n",
       "      <td>hey guy i just wanted to ask you if you have e...</td>\n",
       "      <td>339</td>\n",
       "    </tr>\n",
       "    <tr>\n",
       "      <th>9999</th>\n",
       "      <td>Hey, all!\\n\\nI posted a few days ago about how...</td>\n",
       "      <td>1</td>\n",
       "      <td>[hey, posted, day, ago, wa, going, med, afford...</td>\n",
       "      <td>hey all i posted a few day ago about how i wa ...</td>\n",
       "      <td>186</td>\n",
       "    </tr>\n",
       "  </tbody>\n",
       "</table>\n",
       "<p>10000 rows × 5 columns</p>\n",
       "</div>"
      ],
      "text/plain": [
       "                                               selftext  subreddit  \\\n",
       "0     I am now homeless and my phone service will tu...          0   \n",
       "1     People always describe their depression as con...          0   \n",
       "2     I have been struggling really hard with this. ...          0   \n",
       "3     So Its been 1 year I had my future secure and ...          0   \n",
       "4     I am 15 yrs old and I just need some help.\\n\\n...          0   \n",
       "...                                                 ...        ...   \n",
       "9995  I honestly love the flavour of them!\\n\\nI star...          1   \n",
       "9996  Three days on the trot I have been unable to s...          1   \n",
       "9997  Just wanted to say that I have been feeling go...          1   \n",
       "9998  Hey guys. I just wanted to ask you if you have...          1   \n",
       "9999  Hey, all!\\n\\nI posted a few days ago about how...          1   \n",
       "\n",
       "                                              tokenized  \\\n",
       "0     [homeless, phone, service, turn, really, soon,...   \n",
       "1     [people, always, describe, depression, constan...   \n",
       "2     [struggling, really, hard, graduated, high, sc...   \n",
       "3     [1, year, future, secure, well, wa, going, goo...   \n",
       "4     [15, yr, old, need, help, thing, pretty, shit,...   \n",
       "...                                                 ...   \n",
       "9995  [honestly, love, flavour, started, redbull, re...   \n",
       "9996  [three, day, trot, unable, sleep, eat, getting...   \n",
       "9997  [wanted, say, feeling, good, last, couple, wee...   \n",
       "9998  [hey, guy, wanted, ask, ever, problem, done, d...   \n",
       "9999  [hey, posted, day, ago, wa, going, med, afford...   \n",
       "\n",
       "                                              sentences  word_count  \n",
       "0     i am now homeless and my phone service will tu...         234  \n",
       "1     people always describe their depression a cons...         155  \n",
       "2     i have been struggling really hard with this w...         394  \n",
       "3     so it been 1 year i had my future secure and w...         105  \n",
       "4     i am 15 yr old and i just need some help thing...         154  \n",
       "...                                                 ...         ...  \n",
       "9995  i honestly love the flavour of them i started ...         130  \n",
       "9996  three day on the trot i have been unable to sl...         132  \n",
       "9997  just wanted to say that i have been feeling go...         107  \n",
       "9998  hey guy i just wanted to ask you if you have e...         339  \n",
       "9999  hey all i posted a few day ago about how i wa ...         186  \n",
       "\n",
       "[10000 rows x 5 columns]"
      ]
     },
     "execution_count": 28,
     "metadata": {},
     "output_type": "execute_result"
    }
   ],
   "source": [
    "df"
   ]
  },
  {
   "cell_type": "markdown",
   "id": "owned-outside",
   "metadata": {},
   "source": [
    "# \n",
    "We can save the cleaned data now:"
   ]
  },
  {
   "cell_type": "code",
   "execution_count": 29,
   "id": "julian-split",
   "metadata": {},
   "outputs": [],
   "source": [
    "df.to_csv('../data/depression_bipolar_cleaned.csv', index = False)"
   ]
  },
  {
   "cell_type": "markdown",
   "id": "guilty-charleston",
   "metadata": {},
   "source": [
    "## Exploratory Data Analysis"
   ]
  },
  {
   "cell_type": "markdown",
   "id": "comprehensive-terrain",
   "metadata": {},
   "source": [
    "# \n",
    "##### **From here we can vectorize our data and look more closely at individual words using Count Vectorize:**"
   ]
  },
  {
   "cell_type": "code",
   "execution_count": 30,
   "id": "listed-pharmacology",
   "metadata": {},
   "outputs": [],
   "source": [
    "cvec = CountVectorizer(stop_words='english')"
   ]
  },
  {
   "cell_type": "code",
   "execution_count": 31,
   "id": "closing-interstate",
   "metadata": {},
   "outputs": [],
   "source": [
    "vector = cvec.fit_transform(df['sentences'])"
   ]
  },
  {
   "cell_type": "code",
   "execution_count": 32,
   "id": "occupational-partition",
   "metadata": {},
   "outputs": [],
   "source": [
    "vector_df = pd.DataFrame(vector.todense(), \n",
    "                          columns=cvec.get_feature_names())"
   ]
  },
  {
   "cell_type": "code",
   "execution_count": 175,
   "id": "random-evidence",
   "metadata": {},
   "outputs": [
    {
     "data": {
      "image/png": "[encoded data removed]",
      "text/plain": [
       "<Figure size 576x432 with 1 Axes>"
      ]
     },
     "metadata": {
      "needs_background": "light"
     },
     "output_type": "display_data"
    }
   ],
   "source": [
    "fig, ax = plt.subplots(1, 1, figsize=(8,6))\n",
    "sns.histplot(ax=ax, x = vector_df.sum(), bins = 300, color = 'mediumspringgreen')\n",
    "ax.set_title('Distribution of Word Counts', {'horizontalalignment': 'center'}, fontsize = 16, pad=15)\n",
    "ax.set_ylabel('Count', fontsize = 14)\n",
    "ax.set_xlabel('Occurences by Word', fontsize = 14)\n",
    "ax.xaxis.labelpad = 10\n",
    "ax.yaxis.labelpad = 10  \n",
    "ax.set(xlim = (0, 1500))\n",
    "ax.set(ylim = (0, 10000))\n",
    "plt.savefig('../images/word_count_distribution.png', dpi = 300, bbox_inches = \"tight\", transparent = True)\n",
    "plt.show()"
   ]
  },
  {
   "cell_type": "markdown",
   "id": "japanese-hawaiian",
   "metadata": {},
   "source": [
    "# \n",
    "So let's simulate what would happen if we were to limit the amount of features and limit the thresholds for word occurences:"
   ]
  },
  {
   "cell_type": "code",
   "execution_count": 174,
   "id": "senior-heating",
   "metadata": {},
   "outputs": [
    {
     "data": {
      "image/png": "[encoded data removed]",
      "text/plain": [
       "<Figure size 576x720 with 1 Axes>"
      ]
     },
     "metadata": {
      "needs_background": "light"
     },
     "output_type": "display_data"
    }
   ],
   "source": [
    "fig, ax = plt.subplots(1, 1, figsize=(8,10))\n",
    "sns.histplot(ax=ax, x = vector_df.sum(), bins = 300, color = 'mediumslateblue')\n",
    "ax.set_title('Distribution of Word Count with Limits Imposed', {'horizontalalignment': 'center'}, fontsize = 16, pad=15)\n",
    "ax.set_ylabel('Count', fontsize = 14)\n",
    "ax.set_xlabel('Occurences by Word', fontsize = 14)\n",
    "ax.xaxis.labelpad = 10\n",
    "ax.yaxis.labelpad = 10  \n",
    "ax.set(xlim = (2, 400))\n",
    "ax.set(ylim = (0, 1200))\n",
    "plt.savefig('../images/limited_word_count_distribution.png', dpi = 300, bbox_inches = \"tight\", transparent = True)\n",
    "plt.show()"
   ]
  },
  {
   "cell_type": "markdown",
   "id": "framed-lafayette",
   "metadata": {},
   "source": [
    "### \n",
    "As we can see, as we impose limits on our terms the distribution starts to make more sense. Our model should do this naturally but we'll have to refine the parameters to help it."
   ]
  },
  {
   "cell_type": "markdown",
   "id": "seventh-divorce",
   "metadata": {},
   "source": [
    "# \n",
    "Let's look at our most common words in the dataset:"
   ]
  },
  {
   "cell_type": "code",
   "execution_count": 154,
   "id": "varied-aerospace",
   "metadata": {},
   "outputs": [
    {
     "data": {
      "text/plain": [
       "depression     5455\n",
       "make           5605\n",
       "think          5976\n",
       "friend         6152\n",
       "going          6356\n",
       "ha             6601\n",
       "did            6753\n",
       "people         7091\n",
       "thing          8125\n",
       "day            8157\n",
       "really         8322\n",
       "life           8793\n",
       "year           8864\n",
       "want          10431\n",
       "time          10957\n",
       "know          11269\n",
       "feel          15226\n",
       "like          17140\n",
       "just          20613\n",
       "wa            25180\n",
       "dtype: int64"
      ]
     },
     "execution_count": 154,
     "metadata": {},
     "output_type": "execute_result"
    }
   ],
   "source": [
    "top_20 = vector_df.sum().sort_values(ascending=True).tail(20)\n",
    "top_20"
   ]
  },
  {
   "cell_type": "markdown",
   "id": "amino-letters",
   "metadata": {},
   "source": [
    "#  \n",
    "Let's plot the top 20 values:"
   ]
  },
  {
   "cell_type": "code",
   "execution_count": 155,
   "id": "liberal-database",
   "metadata": {},
   "outputs": [
    {
     "data": {
      "image/png": "[encoded data removed]",
      "text/plain": [
       "<Figure size 1152x360 with 1 Axes>"
      ]
     },
     "metadata": {
      "needs_background": "light"
     },
     "output_type": "display_data"
    }
   ],
   "source": [
    "fig, ax = plt.subplots(1,1, figsize = (16, 5))\n",
    "ax = sns.barplot(ax = ax, x = top_20.index, y = top_20.values, palette = 'hls')\n",
    "ax.set_title('Most Common Words in Data Set', {'horizontalalignment': 'center'}, fontsize = 16, pad=15)\n",
    "ax.set_ylabel('# of occurences', fontsize = 14)\n",
    "ax.set_xlabel('word', fontsize = 14)\n",
    "ax.xaxis.labelpad = 20\n",
    "ax.yaxis.labelpad = 25 \n",
    "ax.set_xticklabels(top_20.index, fontsize = 10)\n",
    "plt.savefig('../images/top_words_bar.png', dpi = 300, bbox_inches = \"tight\", transparent = True)\n",
    "plt.show()"
   ]
  },
  {
   "cell_type": "markdown",
   "id": "false-enhancement",
   "metadata": {},
   "source": [
    "### \n",
    "Obviously we might want to look into what \"wa\" means and also consider whether depression should be used in our models, but most likely these terms will be filtered out by our gridsearch.\n",
    "### "
   ]
  },
  {
   "cell_type": "markdown",
   "id": "downtown-fancy",
   "metadata": {},
   "source": [
    "### Sentiment Analysis"
   ]
  },
  {
   "cell_type": "markdown",
   "id": "serial-beast",
   "metadata": {},
   "source": [
    "We should also take a look at the sentiment ratings for our posts. This could illuminate some things and help us understand our data better.\n",
    "### "
   ]
  },
  {
   "cell_type": "markdown",
   "id": "broke-height",
   "metadata": {},
   "source": [
    "Let's get a dataframe of all the sentimentality scores and combine it with the original dataframe using `pd.concat`:"
   ]
  },
  {
   "cell_type": "code",
   "execution_count": 156,
   "id": "substantial-glossary",
   "metadata": {},
   "outputs": [],
   "source": [
    "sent = SentimentIntensityAnalyzer()"
   ]
  },
  {
   "cell_type": "code",
   "execution_count": 157,
   "id": "moving-indonesia",
   "metadata": {},
   "outputs": [],
   "source": [
    "sentiment_scores = pd.DataFrame(df['sentences'].apply(lambda x: sent.polarity_scores(x)).tolist())"
   ]
  },
  {
   "cell_type": "code",
   "execution_count": 158,
   "id": "answering-helicopter",
   "metadata": {},
   "outputs": [],
   "source": [
    "sent_df = pd.concat([df, sentiment_scores], axis = 1, ignore_index=False)"
   ]
  },
  {
   "cell_type": "code",
   "execution_count": 166,
   "id": "temporal-quarterly",
   "metadata": {},
   "outputs": [
    {
     "data": {
      "text/html": [
       "<div>\n",
       "<style scoped>\n",
       "    .dataframe tbody tr th:only-of-type {\n",
       "        vertical-align: middle;\n",
       "    }\n",
       "\n",
       "    .dataframe tbody tr th {\n",
       "        vertical-align: top;\n",
       "    }\n",
       "\n",
       "    .dataframe thead th {\n",
       "        text-align: right;\n",
       "    }\n",
       "</style>\n",
       "<table border=\"1\" class=\"dataframe\">\n",
       "  <thead>\n",
       "    <tr style=\"text-align: right;\">\n",
       "      <th></th>\n",
       "      <th>selftext</th>\n",
       "      <th>subreddit</th>\n",
       "      <th>tokenized</th>\n",
       "      <th>sentences</th>\n",
       "      <th>word_count</th>\n",
       "      <th>neg</th>\n",
       "      <th>neu</th>\n",
       "      <th>pos</th>\n",
       "      <th>compound</th>\n",
       "    </tr>\n",
       "  </thead>\n",
       "  <tbody>\n",
       "    <tr>\n",
       "      <th>0</th>\n",
       "      <td>I am now homeless and my phone service will tu...</td>\n",
       "      <td>0</td>\n",
       "      <td>[homeless, phone, service, turn, really, soon,...</td>\n",
       "      <td>i am now homeless and my phone service will tu...</td>\n",
       "      <td>234</td>\n",
       "      <td>0.172</td>\n",
       "      <td>0.812</td>\n",
       "      <td>0.015</td>\n",
       "      <td>-0.9896</td>\n",
       "    </tr>\n",
       "    <tr>\n",
       "      <th>1</th>\n",
       "      <td>People always describe their depression as con...</td>\n",
       "      <td>0</td>\n",
       "      <td>[people, always, describe, depression, constan...</td>\n",
       "      <td>people always describe their depression a cons...</td>\n",
       "      <td>155</td>\n",
       "      <td>0.239</td>\n",
       "      <td>0.707</td>\n",
       "      <td>0.054</td>\n",
       "      <td>-0.9854</td>\n",
       "    </tr>\n",
       "    <tr>\n",
       "      <th>2</th>\n",
       "      <td>I have been struggling really hard with this. ...</td>\n",
       "      <td>0</td>\n",
       "      <td>[struggling, really, hard, graduated, high, sc...</td>\n",
       "      <td>i have been struggling really hard with this w...</td>\n",
       "      <td>394</td>\n",
       "      <td>0.162</td>\n",
       "      <td>0.694</td>\n",
       "      <td>0.145</td>\n",
       "      <td>-0.6545</td>\n",
       "    </tr>\n",
       "    <tr>\n",
       "      <th>3</th>\n",
       "      <td>So Its been 1 year I had my future secure and ...</td>\n",
       "      <td>0</td>\n",
       "      <td>[1, year, future, secure, well, wa, going, goo...</td>\n",
       "      <td>so it been 1 year i had my future secure and w...</td>\n",
       "      <td>105</td>\n",
       "      <td>0.187</td>\n",
       "      <td>0.655</td>\n",
       "      <td>0.159</td>\n",
       "      <td>-0.7513</td>\n",
       "    </tr>\n",
       "    <tr>\n",
       "      <th>4</th>\n",
       "      <td>I am 15 yrs old and I just need some help.\\n\\n...</td>\n",
       "      <td>0</td>\n",
       "      <td>[15, yr, old, need, help, thing, pretty, shit,...</td>\n",
       "      <td>i am 15 yr old and i just need some help thing...</td>\n",
       "      <td>154</td>\n",
       "      <td>0.210</td>\n",
       "      <td>0.711</td>\n",
       "      <td>0.079</td>\n",
       "      <td>-0.9716</td>\n",
       "    </tr>\n",
       "  </tbody>\n",
       "</table>\n",
       "</div>"
      ],
      "text/plain": [
       "                                            selftext  subreddit  \\\n",
       "0  I am now homeless and my phone service will tu...          0   \n",
       "1  People always describe their depression as con...          0   \n",
       "2  I have been struggling really hard with this. ...          0   \n",
       "3  So Its been 1 year I had my future secure and ...          0   \n",
       "4  I am 15 yrs old and I just need some help.\\n\\n...          0   \n",
       "\n",
       "                                           tokenized  \\\n",
       "0  [homeless, phone, service, turn, really, soon,...   \n",
       "1  [people, always, describe, depression, constan...   \n",
       "2  [struggling, really, hard, graduated, high, sc...   \n",
       "3  [1, year, future, secure, well, wa, going, goo...   \n",
       "4  [15, yr, old, need, help, thing, pretty, shit,...   \n",
       "\n",
       "                                           sentences  word_count    neg  \\\n",
       "0  i am now homeless and my phone service will tu...         234  0.172   \n",
       "1  people always describe their depression a cons...         155  0.239   \n",
       "2  i have been struggling really hard with this w...         394  0.162   \n",
       "3  so it been 1 year i had my future secure and w...         105  0.187   \n",
       "4  i am 15 yr old and i just need some help thing...         154  0.210   \n",
       "\n",
       "     neu    pos  compound  \n",
       "0  0.812  0.015   -0.9896  \n",
       "1  0.707  0.054   -0.9854  \n",
       "2  0.694  0.145   -0.6545  \n",
       "3  0.655  0.159   -0.7513  \n",
       "4  0.711  0.079   -0.9716  "
      ]
     },
     "execution_count": 166,
     "metadata": {},
     "output_type": "execute_result"
    }
   ],
   "source": [
    "sent_df.head()"
   ]
  },
  {
   "cell_type": "markdown",
   "id": "disturbed-arkansas",
   "metadata": {},
   "source": [
    "# \n",
    "Let's visualize the distributions of the compound score (aggregated sentiment rating):"
   ]
  },
  {
   "cell_type": "code",
   "execution_count": 182,
   "id": "clear-offset",
   "metadata": {},
   "outputs": [
    {
     "data": {
      "image/png": "[encoded data removed]",
      "text/plain": [
       "<Figure size 720x576 with 1 Axes>"
      ]
     },
     "metadata": {
      "needs_background": "light"
     },
     "output_type": "display_data"
    }
   ],
   "source": [
    "fig, ax = plt.subplots(1,1, figsize = (10, 8))\n",
    "ax = sns.histplot(sent_df['compound'], color = 'xkcd:red pink', ax = ax)\n",
    "plt.show()"
   ]
  },
  {
   "cell_type": "markdown",
   "id": "bottom-truth",
   "metadata": {},
   "source": [
    "### \n",
    "Obviously these subreddit topics contain a great deal of negative language so it's interesting that there are these fluctuations at the ends of the plots. Let's take a closer look by isolating these parts of the distribution:\n",
    "### "
   ]
  },
  {
   "cell_type": "code",
   "execution_count": 163,
   "id": "patent-holder",
   "metadata": {},
   "outputs": [],
   "source": [
    "neg_counts = sent_df.loc[sent_df['compound'] < -.8].groupby(by = 'subreddit').count().iloc[:,1]"
   ]
  },
  {
   "cell_type": "code",
   "execution_count": 164,
   "id": "desirable-failing",
   "metadata": {},
   "outputs": [],
   "source": [
    "pos_counts = sent_df.loc[sent_df['compound'] > .8].groupby(by = 'subreddit').count().iloc[:,1]"
   ]
  },
  {
   "cell_type": "code",
   "execution_count": 165,
   "id": "fundamental-cameroon",
   "metadata": {},
   "outputs": [
    {
     "data": {
      "image/png": "[encoded data removed]",
      "text/plain": [
       "<Figure size 648x792 with 2 Axes>"
      ]
     },
     "metadata": {
      "needs_background": "light"
     },
     "output_type": "display_data"
    }
   ],
   "source": [
    "fig, axes = plt.subplots(1,2, figsize = (9,11), sharey = True)\n",
    "axes[0] = sns.barplot(ax = axes[0], y = neg_counts, x = ['depression', 'bipolar'], palette = ['xkcd:pale violet', \"xkcd:robin's egg\"])\n",
    "axes[0].set_title('Posts Considered Very Negative', {'horizontalalignment': 'center'}, fontsize = 16, pad=15)\n",
    "axes[0].set_ylabel('number', fontsize = 16)\n",
    "axes[0].set_xlabel('subreddit', fontsize = 16)\n",
    "axes[0].xaxis.labelpad = 10\n",
    "axes[0].yaxis.labelpad = 10 \n",
    "axes[0].set_xticklabels(labels = ['depression', 'bipolar'], fontsize = 14)\n",
    "plt.subplots_adjust(left=None, bottom = None, right=1.2, top=None, wspace=None, hspace=None)\n",
    "\n",
    "axes[1] = sns.barplot(ax = axes[1], y = pos_counts, x = ['depression', 'bipolar'], palette = ['xkcd:pale violet', \"xkcd:robin's egg\"])\n",
    "axes[1].set_title('Posts Considered Very Positive', {'horizontalalignment': 'center'}, fontsize = 16, pad=15)\n",
    "axes[1].set_ylabel('', fontsize = 16)\n",
    "axes[1].set_xlabel('subreddit', fontsize = 16)\n",
    "axes[1].set_xticklabels(labels = ['depression', 'bipolar'], fontsize = 14)\n",
    "axes[1].xaxis.labelpad = 10\n",
    "axes[1].yaxis.labelpad = 10\n",
    "plt.savefig('../images/sentiment_bar.png', dpi = 300, bbox_inches = \"tight\", transparent = True)\n",
    "plt.show()"
   ]
  },
  {
   "cell_type": "markdown",
   "id": "athletic-forest",
   "metadata": {},
   "source": [
    "This could be very crucial. First thought would be to get rid of positive posts but this could be key to predicting right. "
   ]
  },
  {
   "cell_type": "markdown",
   "id": "aboriginal-identifier",
   "metadata": {},
   "source": [
    "# \n",
    "### What next? \n",
    "So at this point, I think we've realized our data is robust and most of it is necessary. We're definitely going to get rid of terms that occur too often in our dataset, but we will do that when we start modeling in the next part:"
   ]
  },
  {
   "cell_type": "markdown",
   "id": "superb-mainland",
   "metadata": {},
   "source": [
    "# \n",
    "**Up Next:**     \n",
    "[Naive Bayes Model](./Naive_Bayes_Model.ipynb)  \n",
    "  \n",
    "[Return to Read Me](../README.md)"
   ]
  }
 ],
 "metadata": {
  "kernelspec": {
   "display_name": "Python 3",
   "language": "python",
   "name": "python3"
  },
  "language_info": {
   "codemirror_mode": {
    "name": "ipython",
    "version": 3
   },
   "file_extension": ".py",
   "mimetype": "text/x-python",
   "name": "python",
   "nbconvert_exporter": "python",
   "pygments_lexer": "ipython3",
   "version": "3.8.5"
  }
 },
 "nbformat": 4,
 "nbformat_minor": 5
}
